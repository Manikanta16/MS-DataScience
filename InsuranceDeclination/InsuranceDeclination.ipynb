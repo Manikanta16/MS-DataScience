{
 "cells": [
  {
   "cell_type": "code",
   "execution_count": 19,
   "metadata": {},
   "outputs": [],
   "source": [
    "import pandas as pd\n",
    "\n",
    "from sklearn.model_selection import train_test_split\n",
    "from sklearn.metrics import mean_absolute_error, r2_score"
   ]
  },
  {
   "cell_type": "code",
   "execution_count": 2,
   "metadata": {},
   "outputs": [],
   "source": [
    "houses = pd.read_csv('HW4-data.txt',sep='\\t')"
   ]
  },
  {
   "cell_type": "code",
   "execution_count": 3,
   "metadata": {
    "scrolled": true
   },
   "outputs": [
    {
     "data": {
      "text/html": [
       "<div>\n",
       "<style scoped>\n",
       "    .dataframe tbody tr th:only-of-type {\n",
       "        vertical-align: middle;\n",
       "    }\n",
       "\n",
       "    .dataframe tbody tr th {\n",
       "        vertical-align: top;\n",
       "    }\n",
       "\n",
       "    .dataframe thead th {\n",
       "        text-align: right;\n",
       "    }\n",
       "</style>\n",
       "<table border=\"1\" class=\"dataframe\">\n",
       "  <thead>\n",
       "    <tr style=\"text-align: right;\">\n",
       "      <th></th>\n",
       "      <th>Flood</th>\n",
       "      <th>MinorityPop</th>\n",
       "      <th>FireReport</th>\n",
       "      <th>CrimeRate</th>\n",
       "      <th>HouseAge</th>\n",
       "      <th>Income</th>\n",
       "      <th>Declination</th>\n",
       "    </tr>\n",
       "  </thead>\n",
       "  <tbody>\n",
       "    <tr>\n",
       "      <th>0</th>\n",
       "      <td>2</td>\n",
       "      <td>54.0</td>\n",
       "      <td>34.1</td>\n",
       "      <td>68.0</td>\n",
       "      <td>52.6</td>\n",
       "      <td>82.31</td>\n",
       "      <td>0.30</td>\n",
       "    </tr>\n",
       "    <tr>\n",
       "      <th>1</th>\n",
       "      <td>2</td>\n",
       "      <td>4.9</td>\n",
       "      <td>11.0</td>\n",
       "      <td>75.0</td>\n",
       "      <td>42.6</td>\n",
       "      <td>214.80</td>\n",
       "      <td>0.02</td>\n",
       "    </tr>\n",
       "    <tr>\n",
       "      <th>2</th>\n",
       "      <td>1</td>\n",
       "      <td>7.1</td>\n",
       "      <td>6.9</td>\n",
       "      <td>18.0</td>\n",
       "      <td>78.5</td>\n",
       "      <td>111.04</td>\n",
       "      <td>0.02</td>\n",
       "    </tr>\n",
       "    <tr>\n",
       "      <th>3</th>\n",
       "      <td>3</td>\n",
       "      <td>5.3</td>\n",
       "      <td>7.3</td>\n",
       "      <td>31.0</td>\n",
       "      <td>90.1</td>\n",
       "      <td>106.94</td>\n",
       "      <td>0.40</td>\n",
       "    </tr>\n",
       "    <tr>\n",
       "      <th>4</th>\n",
       "      <td>1</td>\n",
       "      <td>21.5</td>\n",
       "      <td>15.1</td>\n",
       "      <td>25.0</td>\n",
       "      <td>89.8</td>\n",
       "      <td>96.31</td>\n",
       "      <td>1.10</td>\n",
       "    </tr>\n",
       "    <tr>\n",
       "      <th>5</th>\n",
       "      <td>1</td>\n",
       "      <td>43.1</td>\n",
       "      <td>29.1</td>\n",
       "      <td>34.0</td>\n",
       "      <td>82.7</td>\n",
       "      <td>79.95</td>\n",
       "      <td>1.90</td>\n",
       "    </tr>\n",
       "    <tr>\n",
       "      <th>6</th>\n",
       "      <td>1</td>\n",
       "      <td>1.1</td>\n",
       "      <td>2.2</td>\n",
       "      <td>14.0</td>\n",
       "      <td>40.2</td>\n",
       "      <td>137.22</td>\n",
       "      <td>0.02</td>\n",
       "    </tr>\n",
       "    <tr>\n",
       "      <th>7</th>\n",
       "      <td>3</td>\n",
       "      <td>1.0</td>\n",
       "      <td>5.7</td>\n",
       "      <td>11.0</td>\n",
       "      <td>27.9</td>\n",
       "      <td>162.50</td>\n",
       "      <td>0.02</td>\n",
       "    </tr>\n",
       "    <tr>\n",
       "      <th>8</th>\n",
       "      <td>2</td>\n",
       "      <td>1.7</td>\n",
       "      <td>2.0</td>\n",
       "      <td>11.0</td>\n",
       "      <td>7.7</td>\n",
       "      <td>136.86</td>\n",
       "      <td>0.02</td>\n",
       "    </tr>\n",
       "    <tr>\n",
       "      <th>9</th>\n",
       "      <td>1</td>\n",
       "      <td>1.6</td>\n",
       "      <td>2.5</td>\n",
       "      <td>22.0</td>\n",
       "      <td>63.8</td>\n",
       "      <td>124.05</td>\n",
       "      <td>0.02</td>\n",
       "    </tr>\n",
       "    <tr>\n",
       "      <th>10</th>\n",
       "      <td>2</td>\n",
       "      <td>1.5</td>\n",
       "      <td>3.0</td>\n",
       "      <td>17.0</td>\n",
       "      <td>51.2</td>\n",
       "      <td>121.98</td>\n",
       "      <td>0.02</td>\n",
       "    </tr>\n",
       "    <tr>\n",
       "      <th>11</th>\n",
       "      <td>3</td>\n",
       "      <td>1.8</td>\n",
       "      <td>5.4</td>\n",
       "      <td>27.0</td>\n",
       "      <td>85.1</td>\n",
       "      <td>116.00</td>\n",
       "      <td>0.02</td>\n",
       "    </tr>\n",
       "    <tr>\n",
       "      <th>12</th>\n",
       "      <td>3</td>\n",
       "      <td>1.0</td>\n",
       "      <td>2.2</td>\n",
       "      <td>9.0</td>\n",
       "      <td>44.4</td>\n",
       "      <td>127.65</td>\n",
       "      <td>0.02</td>\n",
       "    </tr>\n",
       "    <tr>\n",
       "      <th>13</th>\n",
       "      <td>3</td>\n",
       "      <td>2.5</td>\n",
       "      <td>7.2</td>\n",
       "      <td>29.0</td>\n",
       "      <td>84.2</td>\n",
       "      <td>110.84</td>\n",
       "      <td>0.20</td>\n",
       "    </tr>\n",
       "    <tr>\n",
       "      <th>14</th>\n",
       "      <td>2</td>\n",
       "      <td>13.4</td>\n",
       "      <td>15.1</td>\n",
       "      <td>30.0</td>\n",
       "      <td>89.8</td>\n",
       "      <td>105.10</td>\n",
       "      <td>0.80</td>\n",
       "    </tr>\n",
       "    <tr>\n",
       "      <th>15</th>\n",
       "      <td>1</td>\n",
       "      <td>59.8</td>\n",
       "      <td>16.5</td>\n",
       "      <td>40.0</td>\n",
       "      <td>72.7</td>\n",
       "      <td>97.84</td>\n",
       "      <td>0.80</td>\n",
       "    </tr>\n",
       "    <tr>\n",
       "      <th>16</th>\n",
       "      <td>1</td>\n",
       "      <td>94.4</td>\n",
       "      <td>18.4</td>\n",
       "      <td>32.0</td>\n",
       "      <td>72.9</td>\n",
       "      <td>73.42</td>\n",
       "      <td>1.80</td>\n",
       "    </tr>\n",
       "    <tr>\n",
       "      <th>17</th>\n",
       "      <td>3</td>\n",
       "      <td>86.2</td>\n",
       "      <td>36.2</td>\n",
       "      <td>41.0</td>\n",
       "      <td>63.1</td>\n",
       "      <td>65.65</td>\n",
       "      <td>1.80</td>\n",
       "    </tr>\n",
       "    <tr>\n",
       "      <th>18</th>\n",
       "      <td>1</td>\n",
       "      <td>50.2</td>\n",
       "      <td>39.7</td>\n",
       "      <td>147.0</td>\n",
       "      <td>83.0</td>\n",
       "      <td>74.59</td>\n",
       "      <td>0.90</td>\n",
       "    </tr>\n",
       "    <tr>\n",
       "      <th>19</th>\n",
       "      <td>3</td>\n",
       "      <td>74.2</td>\n",
       "      <td>18.5</td>\n",
       "      <td>22.0</td>\n",
       "      <td>78.3</td>\n",
       "      <td>80.14</td>\n",
       "      <td>1.90</td>\n",
       "    </tr>\n",
       "    <tr>\n",
       "      <th>20</th>\n",
       "      <td>1</td>\n",
       "      <td>55.5</td>\n",
       "      <td>23.3</td>\n",
       "      <td>29.0</td>\n",
       "      <td>79.0</td>\n",
       "      <td>81.77</td>\n",
       "      <td>1.50</td>\n",
       "    </tr>\n",
       "    <tr>\n",
       "      <th>21</th>\n",
       "      <td>2</td>\n",
       "      <td>62.3</td>\n",
       "      <td>12.2</td>\n",
       "      <td>46.0</td>\n",
       "      <td>48.0</td>\n",
       "      <td>82.12</td>\n",
       "      <td>0.60</td>\n",
       "    </tr>\n",
       "    <tr>\n",
       "      <th>22</th>\n",
       "      <td>2</td>\n",
       "      <td>10.0</td>\n",
       "      <td>6.2</td>\n",
       "      <td>29.0</td>\n",
       "      <td>60.4</td>\n",
       "      <td>117.44</td>\n",
       "      <td>0.02</td>\n",
       "    </tr>\n",
       "    <tr>\n",
       "      <th>23</th>\n",
       "      <td>3</td>\n",
       "      <td>22.2</td>\n",
       "      <td>9.5</td>\n",
       "      <td>44.0</td>\n",
       "      <td>76.5</td>\n",
       "      <td>93.23</td>\n",
       "      <td>0.10</td>\n",
       "    </tr>\n",
       "    <tr>\n",
       "      <th>24</th>\n",
       "      <td>2</td>\n",
       "      <td>19.6</td>\n",
       "      <td>10.5</td>\n",
       "      <td>36.0</td>\n",
       "      <td>73.5</td>\n",
       "      <td>99.48</td>\n",
       "      <td>1.20</td>\n",
       "    </tr>\n",
       "    <tr>\n",
       "      <th>25</th>\n",
       "      <td>3</td>\n",
       "      <td>17.3</td>\n",
       "      <td>7.7</td>\n",
       "      <td>37.0</td>\n",
       "      <td>66.9</td>\n",
       "      <td>106.56</td>\n",
       "      <td>0.50</td>\n",
       "    </tr>\n",
       "    <tr>\n",
       "      <th>26</th>\n",
       "      <td>2</td>\n",
       "      <td>24.5</td>\n",
       "      <td>8.6</td>\n",
       "      <td>53.0</td>\n",
       "      <td>81.4</td>\n",
       "      <td>97.30</td>\n",
       "      <td>0.70</td>\n",
       "    </tr>\n",
       "    <tr>\n",
       "      <th>27</th>\n",
       "      <td>3</td>\n",
       "      <td>4.4</td>\n",
       "      <td>5.6</td>\n",
       "      <td>23.0</td>\n",
       "      <td>71.5</td>\n",
       "      <td>112.30</td>\n",
       "      <td>0.30</td>\n",
       "    </tr>\n",
       "    <tr>\n",
       "      <th>28</th>\n",
       "      <td>1</td>\n",
       "      <td>46.2</td>\n",
       "      <td>21.8</td>\n",
       "      <td>4.0</td>\n",
       "      <td>73.1</td>\n",
       "      <td>83.30</td>\n",
       "      <td>1.30</td>\n",
       "    </tr>\n",
       "    <tr>\n",
       "      <th>29</th>\n",
       "      <td>1</td>\n",
       "      <td>99.7</td>\n",
       "      <td>21.6</td>\n",
       "      <td>31.0</td>\n",
       "      <td>65.0</td>\n",
       "      <td>55.83</td>\n",
       "      <td>0.90</td>\n",
       "    </tr>\n",
       "    <tr>\n",
       "      <th>30</th>\n",
       "      <td>1</td>\n",
       "      <td>73.5</td>\n",
       "      <td>9.0</td>\n",
       "      <td>39.0</td>\n",
       "      <td>75.4</td>\n",
       "      <td>85.64</td>\n",
       "      <td>0.40</td>\n",
       "    </tr>\n",
       "    <tr>\n",
       "      <th>31</th>\n",
       "      <td>3</td>\n",
       "      <td>10.7</td>\n",
       "      <td>3.6</td>\n",
       "      <td>15.0</td>\n",
       "      <td>20.8</td>\n",
       "      <td>121.02</td>\n",
       "      <td>0.02</td>\n",
       "    </tr>\n",
       "    <tr>\n",
       "      <th>32</th>\n",
       "      <td>2</td>\n",
       "      <td>1.5</td>\n",
       "      <td>5.0</td>\n",
       "      <td>32.0</td>\n",
       "      <td>61.8</td>\n",
       "      <td>118.76</td>\n",
       "      <td>0.02</td>\n",
       "    </tr>\n",
       "    <tr>\n",
       "      <th>33</th>\n",
       "      <td>1</td>\n",
       "      <td>48.8</td>\n",
       "      <td>28.6</td>\n",
       "      <td>27.0</td>\n",
       "      <td>78.1</td>\n",
       "      <td>97.42</td>\n",
       "      <td>1.40</td>\n",
       "    </tr>\n",
       "    <tr>\n",
       "      <th>34</th>\n",
       "      <td>1</td>\n",
       "      <td>98.9</td>\n",
       "      <td>17.4</td>\n",
       "      <td>32.0</td>\n",
       "      <td>68.6</td>\n",
       "      <td>75.20</td>\n",
       "      <td>2.20</td>\n",
       "    </tr>\n",
       "    <tr>\n",
       "      <th>35</th>\n",
       "      <td>1</td>\n",
       "      <td>90.6</td>\n",
       "      <td>11.3</td>\n",
       "      <td>34.0</td>\n",
       "      <td>73.4</td>\n",
       "      <td>73.88</td>\n",
       "      <td>0.80</td>\n",
       "    </tr>\n",
       "    <tr>\n",
       "      <th>36</th>\n",
       "      <td>2</td>\n",
       "      <td>1.4</td>\n",
       "      <td>3.4</td>\n",
       "      <td>17.0</td>\n",
       "      <td>2.0</td>\n",
       "      <td>238.42</td>\n",
       "      <td>0.02</td>\n",
       "    </tr>\n",
       "    <tr>\n",
       "      <th>37</th>\n",
       "      <td>2</td>\n",
       "      <td>71.2</td>\n",
       "      <td>11.9</td>\n",
       "      <td>46.0</td>\n",
       "      <td>57.0</td>\n",
       "      <td>110.40</td>\n",
       "      <td>0.90</td>\n",
       "    </tr>\n",
       "    <tr>\n",
       "      <th>38</th>\n",
       "      <td>2</td>\n",
       "      <td>94.1</td>\n",
       "      <td>10.5</td>\n",
       "      <td>42.0</td>\n",
       "      <td>55.9</td>\n",
       "      <td>103.32</td>\n",
       "      <td>0.90</td>\n",
       "    </tr>\n",
       "    <tr>\n",
       "      <th>39</th>\n",
       "      <td>3</td>\n",
       "      <td>66.1</td>\n",
       "      <td>10.7</td>\n",
       "      <td>43.0</td>\n",
       "      <td>67.5</td>\n",
       "      <td>109.08</td>\n",
       "      <td>0.40</td>\n",
       "    </tr>\n",
       "    <tr>\n",
       "      <th>40</th>\n",
       "      <td>1</td>\n",
       "      <td>36.4</td>\n",
       "      <td>10.8</td>\n",
       "      <td>34.0</td>\n",
       "      <td>58.0</td>\n",
       "      <td>111.56</td>\n",
       "      <td>0.90</td>\n",
       "    </tr>\n",
       "    <tr>\n",
       "      <th>41</th>\n",
       "      <td>2</td>\n",
       "      <td>1.0</td>\n",
       "      <td>4.8</td>\n",
       "      <td>19.0</td>\n",
       "      <td>15.2</td>\n",
       "      <td>133.23</td>\n",
       "      <td>0.02</td>\n",
       "    </tr>\n",
       "    <tr>\n",
       "      <th>42</th>\n",
       "      <td>3</td>\n",
       "      <td>42.5</td>\n",
       "      <td>10.4</td>\n",
       "      <td>25.0</td>\n",
       "      <td>40.8</td>\n",
       "      <td>129.60</td>\n",
       "      <td>0.50</td>\n",
       "    </tr>\n",
       "    <tr>\n",
       "      <th>43</th>\n",
       "      <td>3</td>\n",
       "      <td>35.1</td>\n",
       "      <td>15.6</td>\n",
       "      <td>28.0</td>\n",
       "      <td>57.8</td>\n",
       "      <td>112.60</td>\n",
       "      <td>1.00</td>\n",
       "    </tr>\n",
       "    <tr>\n",
       "      <th>44</th>\n",
       "      <td>3</td>\n",
       "      <td>47.4</td>\n",
       "      <td>7.0</td>\n",
       "      <td>3.0</td>\n",
       "      <td>11.4</td>\n",
       "      <td>100.80</td>\n",
       "      <td>0.20</td>\n",
       "    </tr>\n",
       "    <tr>\n",
       "      <th>45</th>\n",
       "      <td>2</td>\n",
       "      <td>34.0</td>\n",
       "      <td>7.1</td>\n",
       "      <td>23.0</td>\n",
       "      <td>49.2</td>\n",
       "      <td>114.28</td>\n",
       "      <td>0.30</td>\n",
       "    </tr>\n",
       "    <tr>\n",
       "      <th>46</th>\n",
       "      <td>1</td>\n",
       "      <td>3.1</td>\n",
       "      <td>4.9</td>\n",
       "      <td>27.0</td>\n",
       "      <td>46.6</td>\n",
       "      <td>137.31</td>\n",
       "      <td>0.02</td>\n",
       "    </tr>\n",
       "    <tr>\n",
       "      <th>47</th>\n",
       "      <td>2</td>\n",
       "      <td>23.7</td>\n",
       "      <td>1.5</td>\n",
       "      <td>18.0</td>\n",
       "      <td>22.0</td>\n",
       "      <td>270.20</td>\n",
       "      <td>0.07</td>\n",
       "    </tr>\n",
       "    <tr>\n",
       "      <th>48</th>\n",
       "      <td>3</td>\n",
       "      <td>48.2</td>\n",
       "      <td>3.6</td>\n",
       "      <td>29.3</td>\n",
       "      <td>62.6</td>\n",
       "      <td>85.20</td>\n",
       "      <td>0.75</td>\n",
       "    </tr>\n",
       "    <tr>\n",
       "      <th>49</th>\n",
       "      <td>1</td>\n",
       "      <td>18.0</td>\n",
       "      <td>7.3</td>\n",
       "      <td>31.2</td>\n",
       "      <td>18.2</td>\n",
       "      <td>73.50</td>\n",
       "      <td>1.20</td>\n",
       "    </tr>\n",
       "  </tbody>\n",
       "</table>\n",
       "</div>"
      ],
      "text/plain": [
       "    Flood  MinorityPop  FireReport  CrimeRate  HouseAge  Income  Declination\n",
       "0       2         54.0        34.1       68.0      52.6   82.31         0.30\n",
       "1       2          4.9        11.0       75.0      42.6  214.80         0.02\n",
       "2       1          7.1         6.9       18.0      78.5  111.04         0.02\n",
       "3       3          5.3         7.3       31.0      90.1  106.94         0.40\n",
       "4       1         21.5        15.1       25.0      89.8   96.31         1.10\n",
       "5       1         43.1        29.1       34.0      82.7   79.95         1.90\n",
       "6       1          1.1         2.2       14.0      40.2  137.22         0.02\n",
       "7       3          1.0         5.7       11.0      27.9  162.50         0.02\n",
       "8       2          1.7         2.0       11.0       7.7  136.86         0.02\n",
       "9       1          1.6         2.5       22.0      63.8  124.05         0.02\n",
       "10      2          1.5         3.0       17.0      51.2  121.98         0.02\n",
       "11      3          1.8         5.4       27.0      85.1  116.00         0.02\n",
       "12      3          1.0         2.2        9.0      44.4  127.65         0.02\n",
       "13      3          2.5         7.2       29.0      84.2  110.84         0.20\n",
       "14      2         13.4        15.1       30.0      89.8  105.10         0.80\n",
       "15      1         59.8        16.5       40.0      72.7   97.84         0.80\n",
       "16      1         94.4        18.4       32.0      72.9   73.42         1.80\n",
       "17      3         86.2        36.2       41.0      63.1   65.65         1.80\n",
       "18      1         50.2        39.7      147.0      83.0   74.59         0.90\n",
       "19      3         74.2        18.5       22.0      78.3   80.14         1.90\n",
       "20      1         55.5        23.3       29.0      79.0   81.77         1.50\n",
       "21      2         62.3        12.2       46.0      48.0   82.12         0.60\n",
       "22      2         10.0         6.2       29.0      60.4  117.44         0.02\n",
       "23      3         22.2         9.5       44.0      76.5   93.23         0.10\n",
       "24      2         19.6        10.5       36.0      73.5   99.48         1.20\n",
       "25      3         17.3         7.7       37.0      66.9  106.56         0.50\n",
       "26      2         24.5         8.6       53.0      81.4   97.30         0.70\n",
       "27      3          4.4         5.6       23.0      71.5  112.30         0.30\n",
       "28      1         46.2        21.8        4.0      73.1   83.30         1.30\n",
       "29      1         99.7        21.6       31.0      65.0   55.83         0.90\n",
       "30      1         73.5         9.0       39.0      75.4   85.64         0.40\n",
       "31      3         10.7         3.6       15.0      20.8  121.02         0.02\n",
       "32      2          1.5         5.0       32.0      61.8  118.76         0.02\n",
       "33      1         48.8        28.6       27.0      78.1   97.42         1.40\n",
       "34      1         98.9        17.4       32.0      68.6   75.20         2.20\n",
       "35      1         90.6        11.3       34.0      73.4   73.88         0.80\n",
       "36      2          1.4         3.4       17.0       2.0  238.42         0.02\n",
       "37      2         71.2        11.9       46.0      57.0  110.40         0.90\n",
       "38      2         94.1        10.5       42.0      55.9  103.32         0.90\n",
       "39      3         66.1        10.7       43.0      67.5  109.08         0.40\n",
       "40      1         36.4        10.8       34.0      58.0  111.56         0.90\n",
       "41      2          1.0         4.8       19.0      15.2  133.23         0.02\n",
       "42      3         42.5        10.4       25.0      40.8  129.60         0.50\n",
       "43      3         35.1        15.6       28.0      57.8  112.60         1.00\n",
       "44      3         47.4         7.0        3.0      11.4  100.80         0.20\n",
       "45      2         34.0         7.1       23.0      49.2  114.28         0.30\n",
       "46      1          3.1         4.9       27.0      46.6  137.31         0.02\n",
       "47      2         23.7         1.5       18.0      22.0  270.20         0.07\n",
       "48      3         48.2         3.6       29.3      62.6   85.20         0.75\n",
       "49      1         18.0         7.3       31.2      18.2   73.50         1.20"
      ]
     },
     "execution_count": 3,
     "metadata": {},
     "output_type": "execute_result"
    }
   ],
   "source": [
    "houses"
   ]
  },
  {
   "cell_type": "code",
   "execution_count": 4,
   "metadata": {},
   "outputs": [],
   "source": [
    "X = houses.copy(deep=True)"
   ]
  },
  {
   "cell_type": "code",
   "execution_count": 5,
   "metadata": {},
   "outputs": [],
   "source": [
    "X['intercept'] = [1]*len(X)\n",
    "X[['Flood_2','Flood_3']] = pd.get_dummies(houses['Flood'],prefix='Flood',drop_first=True)\n",
    "X.drop(labels=['Flood'],axis=1,inplace=True)"
   ]
  },
  {
   "cell_type": "code",
   "execution_count": 6,
   "metadata": {
    "scrolled": true
   },
   "outputs": [],
   "source": [
    "y = X['Declination']/100\n",
    "X.drop(labels=['Declination'],axis=1,inplace=True)"
   ]
  },
  {
   "cell_type": "code",
   "execution_count": 7,
   "metadata": {},
   "outputs": [
    {
     "data": {
      "text/plain": [
       "Index(['MinorityPop', 'FireReport', 'CrimeRate', 'HouseAge', 'Income',\n",
       "       'intercept', 'Flood_2', 'Flood_3'],\n",
       "      dtype='object')"
      ]
     },
     "execution_count": 7,
     "metadata": {},
     "output_type": "execute_result"
    }
   ],
   "source": [
    "X.columns"
   ]
  },
  {
   "cell_type": "code",
   "execution_count": 8,
   "metadata": {},
   "outputs": [
    {
     "name": "stderr",
     "output_type": "stream",
     "text": [
      "/Users/gurumanikanta/anaconda3/lib/python3.7/site-packages/pandas/core/frame.py:3509: SettingWithCopyWarning: \n",
      "A value is trying to be set on a copy of a slice from a DataFrame.\n",
      "Try using .loc[row_indexer,col_indexer] = value instead\n",
      "\n",
      "See the caveats in the documentation: http://pandas.pydata.org/pandas-docs/stable/user_guide/indexing.html#returning-a-view-versus-a-copy\n",
      "  self[k1] = value[k2]\n"
     ]
    }
   ],
   "source": [
    "from sklearn.preprocessing import StandardScaler\n",
    "ss = StandardScaler()\n",
    "X_scaled = X[['intercept', 'Flood_2', 'Flood_3']]\n",
    "list(X_scaled.columns).extend(['MinorityPop', 'FireReport', 'CrimeRate', 'HouseAge', 'Income'])\n",
    "X_scaled[['MinorityPop', 'FireReport', 'CrimeRate', 'HouseAge', 'Income']] = pd.DataFrame(data = ss.fit_transform(X[['MinorityPop', 'FireReport', 'CrimeRate', 'HouseAge', 'Income']]))"
   ]
  },
  {
   "cell_type": "code",
   "execution_count": 9,
   "metadata": {},
   "outputs": [],
   "source": [
    "X_scaled_train, X_scaled_test, y_scaled_train, y_scaled_test = train_test_split(X_scaled,y,test_size=0.1)"
   ]
  },
  {
   "cell_type": "code",
   "execution_count": 10,
   "metadata": {},
   "outputs": [],
   "source": [
    "X_train, X_test, y_train, y_test = train_test_split(X,y,test_size=0.1)"
   ]
  },
  {
   "cell_type": "code",
   "execution_count": 11,
   "metadata": {},
   "outputs": [],
   "source": [
    "import matplotlib.pyplot as plt\n",
    "import seaborn as sns\n",
    "import statsmodels.api as sm"
   ]
  },
  {
   "cell_type": "code",
   "execution_count": 12,
   "metadata": {},
   "outputs": [
    {
     "data": {
      "text/plain": [
       "<matplotlib.axes._subplots.AxesSubplot at 0x1c17546160>"
      ]
     },
     "execution_count": 12,
     "metadata": {},
     "output_type": "execute_result"
    },
    {
     "data": {
      "image/png": "[encoded data removed]",
      "text/plain": [
       "<Figure size 432x288 with 1 Axes>"
      ]
     },
     "metadata": {
      "needs_background": "light"
     },
     "output_type": "display_data"
    }
   ],
   "source": [
    "sns.distplot(houses['Declination'],rug=True)"
   ]
  },
  {
   "cell_type": "code",
   "execution_count": 13,
   "metadata": {},
   "outputs": [
    {
     "data": {
      "text/plain": [
       "<matplotlib.legend.Legend at 0x1c176d17b8>"
      ]
     },
     "execution_count": 13,
     "metadata": {},
     "output_type": "execute_result"
    },
    {
     "data": {
      "image/png": "[encoded data removed]",
      "text/plain": [
       "<Figure size 432x288 with 1 Axes>"
      ]
     },
     "metadata": {
      "needs_background": "light"
     },
     "output_type": "display_data"
    }
   ],
   "source": [
    "plt.scatter(houses['Income'],y)\n",
    "plt.plot(houses['Income'],[0]*len(y),color='orange',label='0 line')\n",
    "plt.xlabel('Income')\n",
    "plt.ylabel('Declination')\n",
    "plt.legend()"
   ]
  },
  {
   "cell_type": "code",
   "execution_count": 14,
   "metadata": {},
   "outputs": [
    {
     "data": {
      "text/plain": [
       "Flood         -0.309176\n",
       "MinorityPop    0.692207\n",
       "FireReport     0.679315\n",
       "CrimeRate      0.153963\n",
       "HouseAge       0.432281\n",
       "Income        -0.575247\n",
       "Declination    1.000000\n",
       "Name: Declination, dtype: float64"
      ]
     },
     "execution_count": 14,
     "metadata": {},
     "output_type": "execute_result"
    }
   ],
   "source": [
    "houses.corr()['Declination']"
   ]
  },
  {
   "cell_type": "code",
   "execution_count": 15,
   "metadata": {},
   "outputs": [
    {
     "data": {
      "text/plain": [
       "<matplotlib.axes._subplots.AxesSubplot at 0x1c17711e10>"
      ]
     },
     "execution_count": 15,
     "metadata": {},
     "output_type": "execute_result"
    },
    {
     "data": {
      "image/png": "[encoded data removed]",
      "text/plain": [
       "<Figure size 432x288 with 2 Axes>"
      ]
     },
     "metadata": {
      "needs_background": "light"
     },
     "output_type": "display_data"
    }
   ],
   "source": [
    "\n",
    "sns.heatmap(houses.corr())"
   ]
  },
  {
   "cell_type": "markdown",
   "metadata": {},
   "source": [
    "### Models for individual Columns"
   ]
  },
  {
   "cell_type": "code",
   "execution_count": 20,
   "metadata": {},
   "outputs": [
    {
     "name": "stdout",
     "output_type": "stream",
     "text": [
      "Model with:  MinorityPop\n",
      "Mean_absolute_error:  0.00395153713733702\n",
      "R_squared:  0.37411789063499956\n",
      "\n",
      "Model with:  FireReport\n",
      "Mean_absolute_error:  0.004047663342427103\n",
      "R_squared:  0.18272211876945355\n",
      "\n",
      "Model with:  CrimeRate\n",
      "Mean_absolute_error:  0.004991925774081022\n",
      "R_squared:  0.01159529400270054\n",
      "\n",
      "Model with:  HouseAge\n",
      "Mean_absolute_error:  0.004331743339509267\n",
      "R_squared:  0.18774944877910882\n",
      "\n",
      "Model with:  Income\n",
      "Mean_absolute_error:  0.00347838953972599\n",
      "R_squared:  0.4508285572172108\n",
      "\n",
      "Model with Flood_2 and Flood_3\n",
      "Mean_absolute_error:  0.004361596782322592\n",
      "R_squared:  0.1836330781642127\n"
     ]
    },
    {
     "name": "stderr",
     "output_type": "stream",
     "text": [
      "/Users/gurumanikanta/anaconda3/lib/python3.7/site-packages/ipykernel_launcher.py:3: DeprecationWarning: Calling Family(..) with a link class as argument is deprecated.\n",
      "Use an instance of a link class instead.\n",
      "  This is separate from the ipykernel package so we can avoid doing imports until\n",
      "/Users/gurumanikanta/anaconda3/lib/python3.7/site-packages/ipykernel_launcher.py:3: DeprecationWarning: Calling Family(..) with a link class as argument is deprecated.\n",
      "Use an instance of a link class instead.\n",
      "  This is separate from the ipykernel package so we can avoid doing imports until\n",
      "/Users/gurumanikanta/anaconda3/lib/python3.7/site-packages/ipykernel_launcher.py:3: DeprecationWarning: Calling Family(..) with a link class as argument is deprecated.\n",
      "Use an instance of a link class instead.\n",
      "  This is separate from the ipykernel package so we can avoid doing imports until\n",
      "/Users/gurumanikanta/anaconda3/lib/python3.7/site-packages/ipykernel_launcher.py:3: DeprecationWarning: Calling Family(..) with a link class as argument is deprecated.\n",
      "Use an instance of a link class instead.\n",
      "  This is separate from the ipykernel package so we can avoid doing imports until\n",
      "/Users/gurumanikanta/anaconda3/lib/python3.7/site-packages/ipykernel_launcher.py:3: DeprecationWarning: Calling Family(..) with a link class as argument is deprecated.\n",
      "Use an instance of a link class instead.\n",
      "  This is separate from the ipykernel package so we can avoid doing imports until\n",
      "/Users/gurumanikanta/anaconda3/lib/python3.7/site-packages/ipykernel_launcher.py:9: DeprecationWarning: Calling Family(..) with a link class as argument is deprecated.\n",
      "Use an instance of a link class instead.\n",
      "  if __name__ == '__main__':\n"
     ]
    }
   ],
   "source": [
    "for col in X.drop(labels=['Flood_2','Flood_3','intercept'],axis=1).columns:\n",
    "    print('Model with: ',col)\n",
    "    model = sm.GLM(y_train,X_train[['intercept',col]],family=sm.families.Binomial(sm.families.links.logit)).fit()\n",
    "    print('Mean_absolute_error: ',mean_absolute_error(y_train,model.predict(X_train[['intercept',col]])))\n",
    "    print('R_squared: ',r2_score(y_train,model.predict(X_train[['intercept',col]])))\n",
    "    print()\n",
    "\n",
    "print('Model with Flood_2 and Flood_3')    \n",
    "model = sm.GLM(y_train,X_train[['intercept','Flood_2','Flood_3']],family=sm.families.Binomial(sm.families.links.logit)).fit()\n",
    "print('Mean_absolute_error: ',mean_absolute_error(y_train,model.predict(X_train[['intercept','Flood_2','Flood_3']])))\n",
    "print('R_squared: ',r2_score(y_train,model.predict(X_train[['intercept','Flood_2','Flood_3']])))"
   ]
  },
  {
   "cell_type": "code",
   "execution_count": 21,
   "metadata": {},
   "outputs": [
    {
     "data": {
      "text/plain": [
       "0.06449464705587504"
      ]
     },
     "execution_count": 21,
     "metadata": {},
     "output_type": "execute_result"
    }
   ],
   "source": [
    "r2_score(y_test,model.predict(X_test[['intercept','Flood_2','Flood_3']]))"
   ]
  },
  {
   "cell_type": "markdown",
   "metadata": {},
   "source": [
    "### OLS Statsmodels"
   ]
  },
  {
   "cell_type": "code",
   "execution_count": 22,
   "metadata": {},
   "outputs": [],
   "source": [
    "ols = sm.OLS(y_train,X_train).fit()"
   ]
  },
  {
   "cell_type": "code",
   "execution_count": 23,
   "metadata": {
    "scrolled": false
   },
   "outputs": [
    {
     "data": {
      "text/html": [
       "<table class=\"simpletable\">\n",
       "<caption>OLS Regression Results</caption>\n",
       "<tr>\n",
       "  <th>Dep. Variable:</th>       <td>Declination</td>   <th>  R-squared:         </th> <td>   0.667</td>\n",
       "</tr>\n",
       "<tr>\n",
       "  <th>Model:</th>                   <td>OLS</td>       <th>  Adj. R-squared:    </th> <td>   0.604</td>\n",
       "</tr>\n",
       "<tr>\n",
       "  <th>Method:</th>             <td>Least Squares</td>  <th>  F-statistic:       </th> <td>   10.60</td>\n",
       "</tr>\n",
       "<tr>\n",
       "  <th>Date:</th>             <td>Wed, 01 Dec 2021</td> <th>  Prob (F-statistic):</th> <td>3.09e-07</td>\n",
       "</tr>\n",
       "<tr>\n",
       "  <th>Time:</th>                 <td>11:13:26</td>     <th>  Log-Likelihood:    </th> <td>  190.73</td>\n",
       "</tr>\n",
       "<tr>\n",
       "  <th>No. Observations:</th>      <td>    45</td>      <th>  AIC:               </th> <td>  -365.5</td>\n",
       "</tr>\n",
       "<tr>\n",
       "  <th>Df Residuals:</th>          <td>    37</td>      <th>  BIC:               </th> <td>  -351.0</td>\n",
       "</tr>\n",
       "<tr>\n",
       "  <th>Df Model:</th>              <td>     7</td>      <th>                     </th>     <td> </td>   \n",
       "</tr>\n",
       "<tr>\n",
       "  <th>Covariance Type:</th>      <td>nonrobust</td>    <th>                     </th>     <td> </td>   \n",
       "</tr>\n",
       "</table>\n",
       "<table class=\"simpletable\">\n",
       "<tr>\n",
       "       <td></td>          <th>coef</th>     <th>std err</th>      <th>t</th>      <th>P>|t|</th>  <th>[0.025</th>    <th>0.975]</th>  \n",
       "</tr>\n",
       "<tr>\n",
       "  <th>MinorityPop</th> <td> 7.382e-05</td> <td> 2.34e-05</td> <td>    3.155</td> <td> 0.003</td> <td> 2.64e-05</td> <td>    0.000</td>\n",
       "</tr>\n",
       "<tr>\n",
       "  <th>FireReport</th>  <td>    0.0003</td> <td>    0.000</td> <td>    3.219</td> <td> 0.003</td> <td>    0.000</td> <td>    0.001</td>\n",
       "</tr>\n",
       "<tr>\n",
       "  <th>CrimeRate</th>   <td>-8.657e-05</td> <td> 3.36e-05</td> <td>   -2.573</td> <td> 0.014</td> <td>   -0.000</td> <td>-1.84e-05</td>\n",
       "</tr>\n",
       "<tr>\n",
       "  <th>HouseAge</th>    <td> 3.345e-05</td> <td> 3.29e-05</td> <td>    1.016</td> <td> 0.316</td> <td>-3.33e-05</td> <td>    0.000</td>\n",
       "</tr>\n",
       "<tr>\n",
       "  <th>Income</th>      <td>-1.531e-05</td> <td> 2.05e-05</td> <td>   -0.745</td> <td> 0.461</td> <td>-5.69e-05</td> <td> 2.63e-05</td>\n",
       "</tr>\n",
       "<tr>\n",
       "  <th>intercept</th>   <td>    0.0028</td> <td>    0.004</td> <td>    0.693</td> <td> 0.493</td> <td>   -0.005</td> <td>    0.011</td>\n",
       "</tr>\n",
       "<tr>\n",
       "  <th>Flood_2</th>     <td>   -0.0005</td> <td>    0.002</td> <td>   -0.298</td> <td> 0.767</td> <td>   -0.004</td> <td>    0.003</td>\n",
       "</tr>\n",
       "<tr>\n",
       "  <th>Flood_3</th>     <td>   -0.0007</td> <td>    0.002</td> <td>   -0.422</td> <td> 0.676</td> <td>   -0.004</td> <td>    0.003</td>\n",
       "</tr>\n",
       "</table>\n",
       "<table class=\"simpletable\">\n",
       "<tr>\n",
       "  <th>Omnibus:</th>       <td> 2.249</td> <th>  Durbin-Watson:     </th> <td>   2.113</td>\n",
       "</tr>\n",
       "<tr>\n",
       "  <th>Prob(Omnibus):</th> <td> 0.325</td> <th>  Jarque-Bera (JB):  </th> <td>   1.306</td>\n",
       "</tr>\n",
       "<tr>\n",
       "  <th>Skew:</th>          <td> 0.212</td> <th>  Prob(JB):          </th> <td>   0.520</td>\n",
       "</tr>\n",
       "<tr>\n",
       "  <th>Kurtosis:</th>      <td> 3.719</td> <th>  Cond. No.          </th> <td>    976.</td>\n",
       "</tr>\n",
       "</table><br/><br/>Warnings:<br/>[1] Standard Errors assume that the covariance matrix of the errors is correctly specified."
      ],
      "text/plain": [
       "<class 'statsmodels.iolib.summary.Summary'>\n",
       "\"\"\"\n",
       "                            OLS Regression Results                            \n",
       "==============================================================================\n",
       "Dep. Variable:            Declination   R-squared:                       0.667\n",
       "Model:                            OLS   Adj. R-squared:                  0.604\n",
       "Method:                 Least Squares   F-statistic:                     10.60\n",
       "Date:                Wed, 01 Dec 2021   Prob (F-statistic):           3.09e-07\n",
       "Time:                        11:13:26   Log-Likelihood:                 190.73\n",
       "No. Observations:                  45   AIC:                            -365.5\n",
       "Df Residuals:                      37   BIC:                            -351.0\n",
       "Df Model:                           7                                         \n",
       "Covariance Type:            nonrobust                                         \n",
       "===============================================================================\n",
       "                  coef    std err          t      P>|t|      [0.025      0.975]\n",
       "-------------------------------------------------------------------------------\n",
       "MinorityPop  7.382e-05   2.34e-05      3.155      0.003    2.64e-05       0.000\n",
       "FireReport      0.0003      0.000      3.219      0.003       0.000       0.001\n",
       "CrimeRate   -8.657e-05   3.36e-05     -2.573      0.014      -0.000   -1.84e-05\n",
       "HouseAge     3.345e-05   3.29e-05      1.016      0.316   -3.33e-05       0.000\n",
       "Income      -1.531e-05   2.05e-05     -0.745      0.461   -5.69e-05    2.63e-05\n",
       "intercept       0.0028      0.004      0.693      0.493      -0.005       0.011\n",
       "Flood_2        -0.0005      0.002     -0.298      0.767      -0.004       0.003\n",
       "Flood_3        -0.0007      0.002     -0.422      0.676      -0.004       0.003\n",
       "==============================================================================\n",
       "Omnibus:                        2.249   Durbin-Watson:                   2.113\n",
       "Prob(Omnibus):                  0.325   Jarque-Bera (JB):                1.306\n",
       "Skew:                           0.212   Prob(JB):                        0.520\n",
       "Kurtosis:                       3.719   Cond. No.                         976.\n",
       "==============================================================================\n",
       "\n",
       "Warnings:\n",
       "[1] Standard Errors assume that the covariance matrix of the errors is correctly specified.\n",
       "\"\"\""
      ]
     },
     "execution_count": 23,
     "metadata": {},
     "output_type": "execute_result"
    }
   ],
   "source": [
    "ols.summary()"
   ]
  },
  {
   "cell_type": "code",
   "execution_count": 24,
   "metadata": {
    "scrolled": true
   },
   "outputs": [
    {
     "data": {
      "text/plain": [
       "32    0.001549\n",
       "12    0.001679\n",
       "6     0.001624\n",
       "24    0.005047\n",
       "11    0.002779\n",
       "22    0.002807\n",
       "7     0.001579\n",
       "8     0.000302\n",
       "5     0.014197\n",
       "1    -0.002048\n",
       "26    0.003605\n",
       "16    0.014387\n",
       "30    0.009023\n",
       "34    0.014217\n",
       "38    0.009379\n",
       "21    0.007309\n",
       "42    0.005922\n",
       "14    0.007090\n",
       "31    0.001651\n",
       "27    0.002985\n",
       "37    0.007735\n",
       "4     0.008734\n",
       "25    0.003355\n",
       "41    0.000791\n",
       "49    0.003310\n",
       "15    0.010131\n",
       "19    0.013215\n",
       "0     0.012193\n",
       "2     0.004958\n",
       "36   -0.001521\n",
       "48    0.005128\n",
       "18    0.008540\n",
       "45    0.005070\n",
       "28    0.014234\n",
       "47   -0.000408\n",
       "3     0.003626\n",
       "20    0.013474\n",
       "43    0.007667\n",
       "13    0.003302\n",
       "33    0.014637\n",
       "29    0.015929\n",
       "35    0.011592\n",
       "39    0.007412\n",
       "9     0.002058\n",
       "46    0.001753\n",
       "dtype: float64"
      ]
     },
     "execution_count": 24,
     "metadata": {},
     "output_type": "execute_result"
    }
   ],
   "source": [
    "ols_pred = ols.predict(X_train)\n",
    "ols_pred"
   ]
  },
  {
   "cell_type": "code",
   "execution_count": 25,
   "metadata": {
    "scrolled": true
   },
   "outputs": [
    {
     "data": {
      "text/html": [
       "<div>\n",
       "<style scoped>\n",
       "    .dataframe tbody tr th:only-of-type {\n",
       "        vertical-align: middle;\n",
       "    }\n",
       "\n",
       "    .dataframe tbody tr th {\n",
       "        vertical-align: top;\n",
       "    }\n",
       "\n",
       "    .dataframe thead th {\n",
       "        text-align: right;\n",
       "    }\n",
       "</style>\n",
       "<table border=\"1\" class=\"dataframe\">\n",
       "  <thead>\n",
       "    <tr style=\"text-align: right;\">\n",
       "      <th></th>\n",
       "      <th>MinorityPop</th>\n",
       "      <th>FireReport</th>\n",
       "      <th>CrimeRate</th>\n",
       "      <th>HouseAge</th>\n",
       "      <th>Income</th>\n",
       "      <th>intercept</th>\n",
       "      <th>Flood_2</th>\n",
       "      <th>Flood_3</th>\n",
       "    </tr>\n",
       "  </thead>\n",
       "  <tbody>\n",
       "    <tr>\n",
       "      <th>32</th>\n",
       "      <td>1.5</td>\n",
       "      <td>5.0</td>\n",
       "      <td>32.0</td>\n",
       "      <td>61.8</td>\n",
       "      <td>118.76</td>\n",
       "      <td>1</td>\n",
       "      <td>1</td>\n",
       "      <td>0</td>\n",
       "    </tr>\n",
       "    <tr>\n",
       "      <th>12</th>\n",
       "      <td>1.0</td>\n",
       "      <td>2.2</td>\n",
       "      <td>9.0</td>\n",
       "      <td>44.4</td>\n",
       "      <td>127.65</td>\n",
       "      <td>1</td>\n",
       "      <td>0</td>\n",
       "      <td>1</td>\n",
       "    </tr>\n",
       "    <tr>\n",
       "      <th>6</th>\n",
       "      <td>1.1</td>\n",
       "      <td>2.2</td>\n",
       "      <td>14.0</td>\n",
       "      <td>40.2</td>\n",
       "      <td>137.22</td>\n",
       "      <td>1</td>\n",
       "      <td>0</td>\n",
       "      <td>0</td>\n",
       "    </tr>\n",
       "    <tr>\n",
       "      <th>24</th>\n",
       "      <td>19.6</td>\n",
       "      <td>10.5</td>\n",
       "      <td>36.0</td>\n",
       "      <td>73.5</td>\n",
       "      <td>99.48</td>\n",
       "      <td>1</td>\n",
       "      <td>1</td>\n",
       "      <td>0</td>\n",
       "    </tr>\n",
       "    <tr>\n",
       "      <th>11</th>\n",
       "      <td>1.8</td>\n",
       "      <td>5.4</td>\n",
       "      <td>27.0</td>\n",
       "      <td>85.1</td>\n",
       "      <td>116.00</td>\n",
       "      <td>1</td>\n",
       "      <td>0</td>\n",
       "      <td>1</td>\n",
       "    </tr>\n",
       "    <tr>\n",
       "      <th>22</th>\n",
       "      <td>10.0</td>\n",
       "      <td>6.2</td>\n",
       "      <td>29.0</td>\n",
       "      <td>60.4</td>\n",
       "      <td>117.44</td>\n",
       "      <td>1</td>\n",
       "      <td>1</td>\n",
       "      <td>0</td>\n",
       "    </tr>\n",
       "    <tr>\n",
       "      <th>7</th>\n",
       "      <td>1.0</td>\n",
       "      <td>5.7</td>\n",
       "      <td>11.0</td>\n",
       "      <td>27.9</td>\n",
       "      <td>162.50</td>\n",
       "      <td>1</td>\n",
       "      <td>0</td>\n",
       "      <td>1</td>\n",
       "    </tr>\n",
       "    <tr>\n",
       "      <th>8</th>\n",
       "      <td>1.7</td>\n",
       "      <td>2.0</td>\n",
       "      <td>11.0</td>\n",
       "      <td>7.7</td>\n",
       "      <td>136.86</td>\n",
       "      <td>1</td>\n",
       "      <td>1</td>\n",
       "      <td>0</td>\n",
       "    </tr>\n",
       "    <tr>\n",
       "      <th>5</th>\n",
       "      <td>43.1</td>\n",
       "      <td>29.1</td>\n",
       "      <td>34.0</td>\n",
       "      <td>82.7</td>\n",
       "      <td>79.95</td>\n",
       "      <td>1</td>\n",
       "      <td>0</td>\n",
       "      <td>0</td>\n",
       "    </tr>\n",
       "    <tr>\n",
       "      <th>1</th>\n",
       "      <td>4.9</td>\n",
       "      <td>11.0</td>\n",
       "      <td>75.0</td>\n",
       "      <td>42.6</td>\n",
       "      <td>214.80</td>\n",
       "      <td>1</td>\n",
       "      <td>1</td>\n",
       "      <td>0</td>\n",
       "    </tr>\n",
       "    <tr>\n",
       "      <th>26</th>\n",
       "      <td>24.5</td>\n",
       "      <td>8.6</td>\n",
       "      <td>53.0</td>\n",
       "      <td>81.4</td>\n",
       "      <td>97.30</td>\n",
       "      <td>1</td>\n",
       "      <td>1</td>\n",
       "      <td>0</td>\n",
       "    </tr>\n",
       "    <tr>\n",
       "      <th>16</th>\n",
       "      <td>94.4</td>\n",
       "      <td>18.4</td>\n",
       "      <td>32.0</td>\n",
       "      <td>72.9</td>\n",
       "      <td>73.42</td>\n",
       "      <td>1</td>\n",
       "      <td>0</td>\n",
       "      <td>0</td>\n",
       "    </tr>\n",
       "    <tr>\n",
       "      <th>30</th>\n",
       "      <td>73.5</td>\n",
       "      <td>9.0</td>\n",
       "      <td>39.0</td>\n",
       "      <td>75.4</td>\n",
       "      <td>85.64</td>\n",
       "      <td>1</td>\n",
       "      <td>0</td>\n",
       "      <td>0</td>\n",
       "    </tr>\n",
       "    <tr>\n",
       "      <th>34</th>\n",
       "      <td>98.9</td>\n",
       "      <td>17.4</td>\n",
       "      <td>32.0</td>\n",
       "      <td>68.6</td>\n",
       "      <td>75.20</td>\n",
       "      <td>1</td>\n",
       "      <td>0</td>\n",
       "      <td>0</td>\n",
       "    </tr>\n",
       "    <tr>\n",
       "      <th>38</th>\n",
       "      <td>94.1</td>\n",
       "      <td>10.5</td>\n",
       "      <td>42.0</td>\n",
       "      <td>55.9</td>\n",
       "      <td>103.32</td>\n",
       "      <td>1</td>\n",
       "      <td>1</td>\n",
       "      <td>0</td>\n",
       "    </tr>\n",
       "    <tr>\n",
       "      <th>21</th>\n",
       "      <td>62.3</td>\n",
       "      <td>12.2</td>\n",
       "      <td>46.0</td>\n",
       "      <td>48.0</td>\n",
       "      <td>82.12</td>\n",
       "      <td>1</td>\n",
       "      <td>1</td>\n",
       "      <td>0</td>\n",
       "    </tr>\n",
       "    <tr>\n",
       "      <th>42</th>\n",
       "      <td>42.5</td>\n",
       "      <td>10.4</td>\n",
       "      <td>25.0</td>\n",
       "      <td>40.8</td>\n",
       "      <td>129.60</td>\n",
       "      <td>1</td>\n",
       "      <td>0</td>\n",
       "      <td>1</td>\n",
       "    </tr>\n",
       "    <tr>\n",
       "      <th>14</th>\n",
       "      <td>13.4</td>\n",
       "      <td>15.1</td>\n",
       "      <td>30.0</td>\n",
       "      <td>89.8</td>\n",
       "      <td>105.10</td>\n",
       "      <td>1</td>\n",
       "      <td>1</td>\n",
       "      <td>0</td>\n",
       "    </tr>\n",
       "    <tr>\n",
       "      <th>31</th>\n",
       "      <td>10.7</td>\n",
       "      <td>3.6</td>\n",
       "      <td>15.0</td>\n",
       "      <td>20.8</td>\n",
       "      <td>121.02</td>\n",
       "      <td>1</td>\n",
       "      <td>0</td>\n",
       "      <td>1</td>\n",
       "    </tr>\n",
       "    <tr>\n",
       "      <th>27</th>\n",
       "      <td>4.4</td>\n",
       "      <td>5.6</td>\n",
       "      <td>23.0</td>\n",
       "      <td>71.5</td>\n",
       "      <td>112.30</td>\n",
       "      <td>1</td>\n",
       "      <td>0</td>\n",
       "      <td>1</td>\n",
       "    </tr>\n",
       "    <tr>\n",
       "      <th>37</th>\n",
       "      <td>71.2</td>\n",
       "      <td>11.9</td>\n",
       "      <td>46.0</td>\n",
       "      <td>57.0</td>\n",
       "      <td>110.40</td>\n",
       "      <td>1</td>\n",
       "      <td>1</td>\n",
       "      <td>0</td>\n",
       "    </tr>\n",
       "    <tr>\n",
       "      <th>4</th>\n",
       "      <td>21.5</td>\n",
       "      <td>15.1</td>\n",
       "      <td>25.0</td>\n",
       "      <td>89.8</td>\n",
       "      <td>96.31</td>\n",
       "      <td>1</td>\n",
       "      <td>0</td>\n",
       "      <td>0</td>\n",
       "    </tr>\n",
       "    <tr>\n",
       "      <th>25</th>\n",
       "      <td>17.3</td>\n",
       "      <td>7.7</td>\n",
       "      <td>37.0</td>\n",
       "      <td>66.9</td>\n",
       "      <td>106.56</td>\n",
       "      <td>1</td>\n",
       "      <td>0</td>\n",
       "      <td>1</td>\n",
       "    </tr>\n",
       "    <tr>\n",
       "      <th>41</th>\n",
       "      <td>1.0</td>\n",
       "      <td>4.8</td>\n",
       "      <td>19.0</td>\n",
       "      <td>15.2</td>\n",
       "      <td>133.23</td>\n",
       "      <td>1</td>\n",
       "      <td>1</td>\n",
       "      <td>0</td>\n",
       "    </tr>\n",
       "    <tr>\n",
       "      <th>49</th>\n",
       "      <td>18.0</td>\n",
       "      <td>7.3</td>\n",
       "      <td>31.2</td>\n",
       "      <td>18.2</td>\n",
       "      <td>73.50</td>\n",
       "      <td>1</td>\n",
       "      <td>0</td>\n",
       "      <td>0</td>\n",
       "    </tr>\n",
       "    <tr>\n",
       "      <th>15</th>\n",
       "      <td>59.8</td>\n",
       "      <td>16.5</td>\n",
       "      <td>40.0</td>\n",
       "      <td>72.7</td>\n",
       "      <td>97.84</td>\n",
       "      <td>1</td>\n",
       "      <td>0</td>\n",
       "      <td>0</td>\n",
       "    </tr>\n",
       "    <tr>\n",
       "      <th>19</th>\n",
       "      <td>74.2</td>\n",
       "      <td>18.5</td>\n",
       "      <td>22.0</td>\n",
       "      <td>78.3</td>\n",
       "      <td>80.14</td>\n",
       "      <td>1</td>\n",
       "      <td>0</td>\n",
       "      <td>1</td>\n",
       "    </tr>\n",
       "    <tr>\n",
       "      <th>0</th>\n",
       "      <td>54.0</td>\n",
       "      <td>34.1</td>\n",
       "      <td>68.0</td>\n",
       "      <td>52.6</td>\n",
       "      <td>82.31</td>\n",
       "      <td>1</td>\n",
       "      <td>1</td>\n",
       "      <td>0</td>\n",
       "    </tr>\n",
       "    <tr>\n",
       "      <th>2</th>\n",
       "      <td>7.1</td>\n",
       "      <td>6.9</td>\n",
       "      <td>18.0</td>\n",
       "      <td>78.5</td>\n",
       "      <td>111.04</td>\n",
       "      <td>1</td>\n",
       "      <td>0</td>\n",
       "      <td>0</td>\n",
       "    </tr>\n",
       "    <tr>\n",
       "      <th>36</th>\n",
       "      <td>1.4</td>\n",
       "      <td>3.4</td>\n",
       "      <td>17.0</td>\n",
       "      <td>2.0</td>\n",
       "      <td>238.42</td>\n",
       "      <td>1</td>\n",
       "      <td>1</td>\n",
       "      <td>0</td>\n",
       "    </tr>\n",
       "    <tr>\n",
       "      <th>48</th>\n",
       "      <td>48.2</td>\n",
       "      <td>3.6</td>\n",
       "      <td>29.3</td>\n",
       "      <td>62.6</td>\n",
       "      <td>85.20</td>\n",
       "      <td>1</td>\n",
       "      <td>0</td>\n",
       "      <td>1</td>\n",
       "    </tr>\n",
       "    <tr>\n",
       "      <th>18</th>\n",
       "      <td>50.2</td>\n",
       "      <td>39.7</td>\n",
       "      <td>147.0</td>\n",
       "      <td>83.0</td>\n",
       "      <td>74.59</td>\n",
       "      <td>1</td>\n",
       "      <td>0</td>\n",
       "      <td>0</td>\n",
       "    </tr>\n",
       "    <tr>\n",
       "      <th>45</th>\n",
       "      <td>34.0</td>\n",
       "      <td>7.1</td>\n",
       "      <td>23.0</td>\n",
       "      <td>49.2</td>\n",
       "      <td>114.28</td>\n",
       "      <td>1</td>\n",
       "      <td>1</td>\n",
       "      <td>0</td>\n",
       "    </tr>\n",
       "    <tr>\n",
       "      <th>28</th>\n",
       "      <td>46.2</td>\n",
       "      <td>21.8</td>\n",
       "      <td>4.0</td>\n",
       "      <td>73.1</td>\n",
       "      <td>83.30</td>\n",
       "      <td>1</td>\n",
       "      <td>0</td>\n",
       "      <td>0</td>\n",
       "    </tr>\n",
       "    <tr>\n",
       "      <th>47</th>\n",
       "      <td>23.7</td>\n",
       "      <td>1.5</td>\n",
       "      <td>18.0</td>\n",
       "      <td>22.0</td>\n",
       "      <td>270.20</td>\n",
       "      <td>1</td>\n",
       "      <td>1</td>\n",
       "      <td>0</td>\n",
       "    </tr>\n",
       "    <tr>\n",
       "      <th>3</th>\n",
       "      <td>5.3</td>\n",
       "      <td>7.3</td>\n",
       "      <td>31.0</td>\n",
       "      <td>90.1</td>\n",
       "      <td>106.94</td>\n",
       "      <td>1</td>\n",
       "      <td>0</td>\n",
       "      <td>1</td>\n",
       "    </tr>\n",
       "    <tr>\n",
       "      <th>20</th>\n",
       "      <td>55.5</td>\n",
       "      <td>23.3</td>\n",
       "      <td>29.0</td>\n",
       "      <td>79.0</td>\n",
       "      <td>81.77</td>\n",
       "      <td>1</td>\n",
       "      <td>0</td>\n",
       "      <td>0</td>\n",
       "    </tr>\n",
       "    <tr>\n",
       "      <th>43</th>\n",
       "      <td>35.1</td>\n",
       "      <td>15.6</td>\n",
       "      <td>28.0</td>\n",
       "      <td>57.8</td>\n",
       "      <td>112.60</td>\n",
       "      <td>1</td>\n",
       "      <td>0</td>\n",
       "      <td>1</td>\n",
       "    </tr>\n",
       "    <tr>\n",
       "      <th>13</th>\n",
       "      <td>2.5</td>\n",
       "      <td>7.2</td>\n",
       "      <td>29.0</td>\n",
       "      <td>84.2</td>\n",
       "      <td>110.84</td>\n",
       "      <td>1</td>\n",
       "      <td>0</td>\n",
       "      <td>1</td>\n",
       "    </tr>\n",
       "    <tr>\n",
       "      <th>33</th>\n",
       "      <td>48.8</td>\n",
       "      <td>28.6</td>\n",
       "      <td>27.0</td>\n",
       "      <td>78.1</td>\n",
       "      <td>97.42</td>\n",
       "      <td>1</td>\n",
       "      <td>0</td>\n",
       "      <td>0</td>\n",
       "    </tr>\n",
       "    <tr>\n",
       "      <th>29</th>\n",
       "      <td>99.7</td>\n",
       "      <td>21.6</td>\n",
       "      <td>31.0</td>\n",
       "      <td>65.0</td>\n",
       "      <td>55.83</td>\n",
       "      <td>1</td>\n",
       "      <td>0</td>\n",
       "      <td>0</td>\n",
       "    </tr>\n",
       "    <tr>\n",
       "      <th>35</th>\n",
       "      <td>90.6</td>\n",
       "      <td>11.3</td>\n",
       "      <td>34.0</td>\n",
       "      <td>73.4</td>\n",
       "      <td>73.88</td>\n",
       "      <td>1</td>\n",
       "      <td>0</td>\n",
       "      <td>0</td>\n",
       "    </tr>\n",
       "    <tr>\n",
       "      <th>39</th>\n",
       "      <td>66.1</td>\n",
       "      <td>10.7</td>\n",
       "      <td>43.0</td>\n",
       "      <td>67.5</td>\n",
       "      <td>109.08</td>\n",
       "      <td>1</td>\n",
       "      <td>0</td>\n",
       "      <td>1</td>\n",
       "    </tr>\n",
       "    <tr>\n",
       "      <th>9</th>\n",
       "      <td>1.6</td>\n",
       "      <td>2.5</td>\n",
       "      <td>22.0</td>\n",
       "      <td>63.8</td>\n",
       "      <td>124.05</td>\n",
       "      <td>1</td>\n",
       "      <td>0</td>\n",
       "      <td>0</td>\n",
       "    </tr>\n",
       "    <tr>\n",
       "      <th>46</th>\n",
       "      <td>3.1</td>\n",
       "      <td>4.9</td>\n",
       "      <td>27.0</td>\n",
       "      <td>46.6</td>\n",
       "      <td>137.31</td>\n",
       "      <td>1</td>\n",
       "      <td>0</td>\n",
       "      <td>0</td>\n",
       "    </tr>\n",
       "  </tbody>\n",
       "</table>\n",
       "</div>"
      ],
      "text/plain": [
       "    MinorityPop  FireReport  CrimeRate  HouseAge  Income  intercept  Flood_2  \\\n",
       "32          1.5         5.0       32.0      61.8  118.76          1        1   \n",
       "12          1.0         2.2        9.0      44.4  127.65          1        0   \n",
       "6           1.1         2.2       14.0      40.2  137.22          1        0   \n",
       "24         19.6        10.5       36.0      73.5   99.48          1        1   \n",
       "11          1.8         5.4       27.0      85.1  116.00          1        0   \n",
       "22         10.0         6.2       29.0      60.4  117.44          1        1   \n",
       "7           1.0         5.7       11.0      27.9  162.50          1        0   \n",
       "8           1.7         2.0       11.0       7.7  136.86          1        1   \n",
       "5          43.1        29.1       34.0      82.7   79.95          1        0   \n",
       "1           4.9        11.0       75.0      42.6  214.80          1        1   \n",
       "26         24.5         8.6       53.0      81.4   97.30          1        1   \n",
       "16         94.4        18.4       32.0      72.9   73.42          1        0   \n",
       "30         73.5         9.0       39.0      75.4   85.64          1        0   \n",
       "34         98.9        17.4       32.0      68.6   75.20          1        0   \n",
       "38         94.1        10.5       42.0      55.9  103.32          1        1   \n",
       "21         62.3        12.2       46.0      48.0   82.12          1        1   \n",
       "42         42.5        10.4       25.0      40.8  129.60          1        0   \n",
       "14         13.4        15.1       30.0      89.8  105.10          1        1   \n",
       "31         10.7         3.6       15.0      20.8  121.02          1        0   \n",
       "27          4.4         5.6       23.0      71.5  112.30          1        0   \n",
       "37         71.2        11.9       46.0      57.0  110.40          1        1   \n",
       "4          21.5        15.1       25.0      89.8   96.31          1        0   \n",
       "25         17.3         7.7       37.0      66.9  106.56          1        0   \n",
       "41          1.0         4.8       19.0      15.2  133.23          1        1   \n",
       "49         18.0         7.3       31.2      18.2   73.50          1        0   \n",
       "15         59.8        16.5       40.0      72.7   97.84          1        0   \n",
       "19         74.2        18.5       22.0      78.3   80.14          1        0   \n",
       "0          54.0        34.1       68.0      52.6   82.31          1        1   \n",
       "2           7.1         6.9       18.0      78.5  111.04          1        0   \n",
       "36          1.4         3.4       17.0       2.0  238.42          1        1   \n",
       "48         48.2         3.6       29.3      62.6   85.20          1        0   \n",
       "18         50.2        39.7      147.0      83.0   74.59          1        0   \n",
       "45         34.0         7.1       23.0      49.2  114.28          1        1   \n",
       "28         46.2        21.8        4.0      73.1   83.30          1        0   \n",
       "47         23.7         1.5       18.0      22.0  270.20          1        1   \n",
       "3           5.3         7.3       31.0      90.1  106.94          1        0   \n",
       "20         55.5        23.3       29.0      79.0   81.77          1        0   \n",
       "43         35.1        15.6       28.0      57.8  112.60          1        0   \n",
       "13          2.5         7.2       29.0      84.2  110.84          1        0   \n",
       "33         48.8        28.6       27.0      78.1   97.42          1        0   \n",
       "29         99.7        21.6       31.0      65.0   55.83          1        0   \n",
       "35         90.6        11.3       34.0      73.4   73.88          1        0   \n",
       "39         66.1        10.7       43.0      67.5  109.08          1        0   \n",
       "9           1.6         2.5       22.0      63.8  124.05          1        0   \n",
       "46          3.1         4.9       27.0      46.6  137.31          1        0   \n",
       "\n",
       "    Flood_3  \n",
       "32        0  \n",
       "12        1  \n",
       "6         0  \n",
       "24        0  \n",
       "11        1  \n",
       "22        0  \n",
       "7         1  \n",
       "8         0  \n",
       "5         0  \n",
       "1         0  \n",
       "26        0  \n",
       "16        0  \n",
       "30        0  \n",
       "34        0  \n",
       "38        0  \n",
       "21        0  \n",
       "42        1  \n",
       "14        0  \n",
       "31        1  \n",
       "27        1  \n",
       "37        0  \n",
       "4         0  \n",
       "25        1  \n",
       "41        0  \n",
       "49        0  \n",
       "15        0  \n",
       "19        1  \n",
       "0         0  \n",
       "2         0  \n",
       "36        0  \n",
       "48        1  \n",
       "18        0  \n",
       "45        0  \n",
       "28        0  \n",
       "47        0  \n",
       "3         1  \n",
       "20        0  \n",
       "43        1  \n",
       "13        1  \n",
       "33        0  \n",
       "29        0  \n",
       "35        0  \n",
       "39        1  \n",
       "9         0  \n",
       "46        0  "
      ]
     },
     "execution_count": 25,
     "metadata": {},
     "output_type": "execute_result"
    }
   ],
   "source": [
    "X_train"
   ]
  },
  {
   "cell_type": "code",
   "execution_count": 26,
   "metadata": {},
   "outputs": [
    {
     "data": {
      "text/plain": [
       "array([-0.01054543])"
      ]
     },
     "execution_count": 26,
     "metadata": {},
     "output_type": "execute_result"
    }
   ],
   "source": [
    "future_dpt = [1,7,34,90,1000,1,1,0]\n",
    "ols.predict(future_dpt)"
   ]
  },
  {
   "cell_type": "code",
   "execution_count": 27,
   "metadata": {},
   "outputs": [
    {
     "data": {
      "text/plain": [
       "0.0024058556819344275"
      ]
     },
     "execution_count": 27,
     "metadata": {},
     "output_type": "execute_result"
    }
   ],
   "source": [
    "ols_test_pred = ols.predict(X_test)\n",
    "mean_absolute_error(y_test,ols_test_pred)"
   ]
  },
  {
   "cell_type": "code",
   "execution_count": 28,
   "metadata": {},
   "outputs": [],
   "source": [
    "result_dict = {'Model':[],'MeanAbsoluteError':[],'0-1TargetRangeSatisfied':[]}"
   ]
  },
  {
   "cell_type": "code",
   "execution_count": 29,
   "metadata": {},
   "outputs": [],
   "source": [
    "result_dict['Model'].append('OrdinaryLeastSquares')\n",
    "result_dict['MeanAbsoluteError'].append(0.0009937013883552562)\n",
    "result_dict['0-1TargetRangeSatisfied'].append('No')"
   ]
  },
  {
   "cell_type": "markdown",
   "metadata": {},
   "source": [
    "### GLM statsmodels"
   ]
  },
  {
   "cell_type": "code",
   "execution_count": 30,
   "metadata": {},
   "outputs": [],
   "source": [
    "import statsmodels.api as sm"
   ]
  },
  {
   "cell_type": "code",
   "execution_count": 31,
   "metadata": {},
   "outputs": [
    {
     "data": {
      "text/html": [
       "<table class=\"simpletable\">\n",
       "<caption>Generalized Linear Model Regression Results</caption>\n",
       "<tr>\n",
       "  <th>Dep. Variable:</th>      <td>Declination</td>   <th>  No. Observations:  </th>   <td>    45</td>  \n",
       "</tr>\n",
       "<tr>\n",
       "  <th>Model:</th>                  <td>GLM</td>       <th>  Df Residuals:      </th>   <td>    37</td>  \n",
       "</tr>\n",
       "<tr>\n",
       "  <th>Model Family:</th>        <td>Gaussian</td>     <th>  Df Model:          </th>   <td>     7</td>  \n",
       "</tr>\n",
       "<tr>\n",
       "  <th>Link Function:</th>       <td>identity</td>     <th>  Scale:             </th> <td>1.4828e-05</td>\n",
       "</tr>\n",
       "<tr>\n",
       "  <th>Method:</th>                <td>IRLS</td>       <th>  Log-Likelihood:    </th>  <td>  190.73</td> \n",
       "</tr>\n",
       "<tr>\n",
       "  <th>Date:</th>            <td>Wed, 01 Dec 2021</td> <th>  Deviance:          </th> <td>0.00054863</td>\n",
       "</tr>\n",
       "<tr>\n",
       "  <th>Time:</th>                <td>11:13:45</td>     <th>  Pearson chi2:      </th>  <td>0.000549</td> \n",
       "</tr>\n",
       "<tr>\n",
       "  <th>No. Iterations:</th>          <td>3</td>        <th>                     </th>      <td> </td>    \n",
       "</tr>\n",
       "<tr>\n",
       "  <th>Covariance Type:</th>     <td>nonrobust</td>    <th>                     </th>      <td> </td>    \n",
       "</tr>\n",
       "</table>\n",
       "<table class=\"simpletable\">\n",
       "<tr>\n",
       "       <td></td>          <th>coef</th>     <th>std err</th>      <th>z</th>      <th>P>|z|</th>  <th>[0.025</th>    <th>0.975]</th>  \n",
       "</tr>\n",
       "<tr>\n",
       "  <th>MinorityPop</th> <td> 7.382e-05</td> <td> 2.34e-05</td> <td>    3.155</td> <td> 0.002</td> <td>  2.8e-05</td> <td>    0.000</td>\n",
       "</tr>\n",
       "<tr>\n",
       "  <th>FireReport</th>  <td>    0.0003</td> <td>    0.000</td> <td>    3.219</td> <td> 0.001</td> <td>    0.000</td> <td>    0.001</td>\n",
       "</tr>\n",
       "<tr>\n",
       "  <th>CrimeRate</th>   <td>-8.657e-05</td> <td> 3.36e-05</td> <td>   -2.573</td> <td> 0.010</td> <td>   -0.000</td> <td>-2.06e-05</td>\n",
       "</tr>\n",
       "<tr>\n",
       "  <th>HouseAge</th>    <td> 3.345e-05</td> <td> 3.29e-05</td> <td>    1.016</td> <td> 0.310</td> <td>-3.11e-05</td> <td>  9.8e-05</td>\n",
       "</tr>\n",
       "<tr>\n",
       "  <th>Income</th>      <td>-1.531e-05</td> <td> 2.05e-05</td> <td>   -0.745</td> <td> 0.456</td> <td>-5.56e-05</td> <td> 2.49e-05</td>\n",
       "</tr>\n",
       "<tr>\n",
       "  <th>intercept</th>   <td>    0.0028</td> <td>    0.004</td> <td>    0.693</td> <td> 0.488</td> <td>   -0.005</td> <td>    0.011</td>\n",
       "</tr>\n",
       "<tr>\n",
       "  <th>Flood_2</th>     <td>   -0.0005</td> <td>    0.002</td> <td>   -0.298</td> <td> 0.766</td> <td>   -0.004</td> <td>    0.003</td>\n",
       "</tr>\n",
       "<tr>\n",
       "  <th>Flood_3</th>     <td>   -0.0007</td> <td>    0.002</td> <td>   -0.422</td> <td> 0.673</td> <td>   -0.004</td> <td>    0.002</td>\n",
       "</tr>\n",
       "</table>"
      ],
      "text/plain": [
       "<class 'statsmodels.iolib.summary.Summary'>\n",
       "\"\"\"\n",
       "                 Generalized Linear Model Regression Results                  \n",
       "==============================================================================\n",
       "Dep. Variable:            Declination   No. Observations:                   45\n",
       "Model:                            GLM   Df Residuals:                       37\n",
       "Model Family:                Gaussian   Df Model:                            7\n",
       "Link Function:               identity   Scale:                      1.4828e-05\n",
       "Method:                          IRLS   Log-Likelihood:                 190.73\n",
       "Date:                Wed, 01 Dec 2021   Deviance:                   0.00054863\n",
       "Time:                        11:13:45   Pearson chi2:                 0.000549\n",
       "No. Iterations:                     3                                         \n",
       "Covariance Type:            nonrobust                                         \n",
       "===============================================================================\n",
       "                  coef    std err          z      P>|z|      [0.025      0.975]\n",
       "-------------------------------------------------------------------------------\n",
       "MinorityPop  7.382e-05   2.34e-05      3.155      0.002     2.8e-05       0.000\n",
       "FireReport      0.0003      0.000      3.219      0.001       0.000       0.001\n",
       "CrimeRate   -8.657e-05   3.36e-05     -2.573      0.010      -0.000   -2.06e-05\n",
       "HouseAge     3.345e-05   3.29e-05      1.016      0.310   -3.11e-05     9.8e-05\n",
       "Income      -1.531e-05   2.05e-05     -0.745      0.456   -5.56e-05    2.49e-05\n",
       "intercept       0.0028      0.004      0.693      0.488      -0.005       0.011\n",
       "Flood_2        -0.0005      0.002     -0.298      0.766      -0.004       0.003\n",
       "Flood_3        -0.0007      0.002     -0.422      0.673      -0.004       0.002\n",
       "===============================================================================\n",
       "\"\"\""
      ]
     },
     "execution_count": 31,
     "metadata": {},
     "output_type": "execute_result"
    }
   ],
   "source": [
    "glm_reg = sm.GLM(y_train,X_train).fit()\n",
    "glm_reg.summary()"
   ]
  },
  {
   "cell_type": "code",
   "execution_count": 32,
   "metadata": {},
   "outputs": [
    {
     "data": {
      "text/plain": [
       "0.0026340370085357156"
      ]
     },
     "execution_count": 32,
     "metadata": {},
     "output_type": "execute_result"
    }
   ],
   "source": [
    "glm_reg_pred = glm_reg.predict(X_train)\n",
    "mean_absolute_error(y_train,glm_reg_pred)"
   ]
  },
  {
   "cell_type": "code",
   "execution_count": 33,
   "metadata": {},
   "outputs": [
    {
     "data": {
      "text/plain": [
       "0.6673153984864949"
      ]
     },
     "execution_count": 33,
     "metadata": {},
     "output_type": "execute_result"
    }
   ],
   "source": [
    "r2_score(y_train,glm_reg_pred)"
   ]
  },
  {
   "cell_type": "code",
   "execution_count": 279,
   "metadata": {
    "scrolled": true
   },
   "outputs": [
    {
     "data": {
      "text/plain": [
       "48    0.004560\n",
       "15    0.010461\n",
       "30    0.009411\n",
       "4     0.009249\n",
       "22    0.002899\n",
       "47    0.000100\n",
       "5     0.014330\n",
       "1    -0.001484\n",
       "0     0.011668\n",
       "28    0.014265\n",
       "40    0.006698\n",
       "39    0.006932\n",
       "35    0.011808\n",
       "36   -0.001373\n",
       "24    0.005120\n",
       "14    0.007263\n",
       "8    -0.000027\n",
       "33    0.014781\n",
       "41    0.000510\n",
       "10    0.001819\n",
       "26    0.003846\n",
       "9     0.002688\n",
       "3     0.003467\n",
       "45    0.004949\n",
       "27    0.002662\n",
       "19    0.012452\n",
       "34    0.014268\n",
       "42    0.005247\n",
       "21    0.006980\n",
       "49    0.003159\n",
       "6     0.002057\n",
       "31    0.000855\n",
       "37    0.007632\n",
       "11    0.002637\n",
       "44    0.005349\n",
       "13    0.003103\n",
       "7     0.001034\n",
       "2     0.005566\n",
       "12    0.001165\n",
       "20    0.013629\n",
       "23    0.003860\n",
       "16    0.014463\n",
       "29    0.015769\n",
       "43    0.007014\n",
       "25    0.002963\n",
       "dtype: float64"
      ]
     },
     "execution_count": 279,
     "metadata": {},
     "output_type": "execute_result"
    }
   ],
   "source": [
    "glm_reg_pred"
   ]
  },
  {
   "cell_type": "code",
   "execution_count": 34,
   "metadata": {},
   "outputs": [
    {
     "data": {
      "text/plain": [
       "0.0024058556819344275"
      ]
     },
     "execution_count": 34,
     "metadata": {},
     "output_type": "execute_result"
    }
   ],
   "source": [
    "glm_reg_pred_test = glm_reg.predict(X_test)\n",
    "mean_absolute_error(y_test,glm_reg_pred_test)"
   ]
  },
  {
   "cell_type": "code",
   "execution_count": 35,
   "metadata": {},
   "outputs": [
    {
     "data": {
      "text/plain": [
       "0.8221457750954279"
      ]
     },
     "execution_count": 35,
     "metadata": {},
     "output_type": "execute_result"
    }
   ],
   "source": [
    "r2_score(y_test,glm_reg_pred_test)"
   ]
  },
  {
   "cell_type": "code",
   "execution_count": 314,
   "metadata": {},
   "outputs": [],
   "source": [
    "result_dict['Model'].append('GeneralizedLinearModel - GaussianDist')\n",
    "result_dict['MeanAbsoluteError'].append(0.0009937013883552562)\n",
    "result_dict['0-1TargetRangeSatisfied'].append('No')"
   ]
  },
  {
   "cell_type": "markdown",
   "metadata": {},
   "source": [
    "### Statsmodels GLM with Binomial Family and Logit link"
   ]
  },
  {
   "cell_type": "code",
   "execution_count": 36,
   "metadata": {},
   "outputs": [
    {
     "name": "stderr",
     "output_type": "stream",
     "text": [
      "/Users/gurumanikanta/anaconda3/lib/python3.7/site-packages/ipykernel_launcher.py:1: DeprecationWarning: Calling Family(..) with a link class as argument is deprecated.\n",
      "Use an instance of a link class instead.\n",
      "  \"\"\"Entry point for launching an IPython kernel.\n"
     ]
    }
   ],
   "source": [
    "glm = sm.GLM(y_train,X_train,family=sm.families.Binomial(link=sm.families.links.logit)).fit()"
   ]
  },
  {
   "cell_type": "code",
   "execution_count": 37,
   "metadata": {},
   "outputs": [
    {
     "data": {
      "text/html": [
       "<table class=\"simpletable\">\n",
       "<caption>Generalized Linear Model Regression Results</caption>\n",
       "<tr>\n",
       "  <th>Dep. Variable:</th>      <td>Declination</td>   <th>  No. Observations:  </th>  <td>    45</td> \n",
       "</tr>\n",
       "<tr>\n",
       "  <th>Model:</th>                  <td>GLM</td>       <th>  Df Residuals:      </th>  <td>    37</td> \n",
       "</tr>\n",
       "<tr>\n",
       "  <th>Model Family:</th>        <td>Binomial</td>     <th>  Df Model:          </th>  <td>     7</td> \n",
       "</tr>\n",
       "<tr>\n",
       "  <th>Link Function:</th>         <td>logit</td>      <th>  Scale:             </th> <td>  1.0000</td>\n",
       "</tr>\n",
       "<tr>\n",
       "  <th>Method:</th>                <td>IRLS</td>       <th>  Log-Likelihood:    </th> <td> -1.3392</td>\n",
       "</tr>\n",
       "<tr>\n",
       "  <th>Date:</th>            <td>Wed, 01 Dec 2021</td> <th>  Deviance:          </th> <td>0.097370</td>\n",
       "</tr>\n",
       "<tr>\n",
       "  <th>Time:</th>                <td>11:14:53</td>     <th>  Pearson chi2:      </th>  <td>0.0942</td> \n",
       "</tr>\n",
       "<tr>\n",
       "  <th>No. Iterations:</th>          <td>9</td>        <th>                     </th>     <td> </td>   \n",
       "</tr>\n",
       "<tr>\n",
       "  <th>Covariance Type:</th>     <td>nonrobust</td>    <th>                     </th>     <td> </td>   \n",
       "</tr>\n",
       "</table>\n",
       "<table class=\"simpletable\">\n",
       "<tr>\n",
       "       <td></td>          <th>coef</th>     <th>std err</th>      <th>z</th>      <th>P>|z|</th>  <th>[0.025</th>    <th>0.975]</th>  \n",
       "</tr>\n",
       "<tr>\n",
       "  <th>MinorityPop</th> <td>    0.0076</td> <td>    0.090</td> <td>    0.084</td> <td> 0.933</td> <td>   -0.169</td> <td>    0.184</td>\n",
       "</tr>\n",
       "<tr>\n",
       "  <th>FireReport</th>  <td>    0.0338</td> <td>    0.298</td> <td>    0.113</td> <td> 0.910</td> <td>   -0.551</td> <td>    0.619</td>\n",
       "</tr>\n",
       "<tr>\n",
       "  <th>CrimeRate</th>   <td>   -0.0096</td> <td>    0.097</td> <td>   -0.099</td> <td> 0.921</td> <td>   -0.200</td> <td>    0.181</td>\n",
       "</tr>\n",
       "<tr>\n",
       "  <th>HouseAge</th>    <td>    0.0119</td> <td>    0.147</td> <td>    0.081</td> <td> 0.935</td> <td>   -0.277</td> <td>    0.301</td>\n",
       "</tr>\n",
       "<tr>\n",
       "  <th>Income</th>      <td>   -0.0168</td> <td>    0.163</td> <td>   -0.103</td> <td> 0.918</td> <td>   -0.335</td> <td>    0.302</td>\n",
       "</tr>\n",
       "<tr>\n",
       "  <th>intercept</th>   <td>   -4.7883</td> <td>   24.039</td> <td>   -0.199</td> <td> 0.842</td> <td>  -51.904</td> <td>   42.328</td>\n",
       "</tr>\n",
       "<tr>\n",
       "  <th>Flood_2</th>     <td>    0.1796</td> <td>    5.792</td> <td>    0.031</td> <td> 0.975</td> <td>  -11.173</td> <td>   11.532</td>\n",
       "</tr>\n",
       "<tr>\n",
       "  <th>Flood_3</th>     <td>    0.1589</td> <td>    5.566</td> <td>    0.029</td> <td> 0.977</td> <td>  -10.750</td> <td>   11.068</td>\n",
       "</tr>\n",
       "</table>"
      ],
      "text/plain": [
       "<class 'statsmodels.iolib.summary.Summary'>\n",
       "\"\"\"\n",
       "                 Generalized Linear Model Regression Results                  \n",
       "==============================================================================\n",
       "Dep. Variable:            Declination   No. Observations:                   45\n",
       "Model:                            GLM   Df Residuals:                       37\n",
       "Model Family:                Binomial   Df Model:                            7\n",
       "Link Function:                  logit   Scale:                          1.0000\n",
       "Method:                          IRLS   Log-Likelihood:                -1.3392\n",
       "Date:                Wed, 01 Dec 2021   Deviance:                     0.097370\n",
       "Time:                        11:14:53   Pearson chi2:                   0.0942\n",
       "No. Iterations:                     9                                         \n",
       "Covariance Type:            nonrobust                                         \n",
       "===============================================================================\n",
       "                  coef    std err          z      P>|z|      [0.025      0.975]\n",
       "-------------------------------------------------------------------------------\n",
       "MinorityPop     0.0076      0.090      0.084      0.933      -0.169       0.184\n",
       "FireReport      0.0338      0.298      0.113      0.910      -0.551       0.619\n",
       "CrimeRate      -0.0096      0.097     -0.099      0.921      -0.200       0.181\n",
       "HouseAge        0.0119      0.147      0.081      0.935      -0.277       0.301\n",
       "Income         -0.0168      0.163     -0.103      0.918      -0.335       0.302\n",
       "intercept      -4.7883     24.039     -0.199      0.842     -51.904      42.328\n",
       "Flood_2         0.1796      5.792      0.031      0.975     -11.173      11.532\n",
       "Flood_3         0.1589      5.566      0.029      0.977     -10.750      11.068\n",
       "===============================================================================\n",
       "\"\"\""
      ]
     },
     "execution_count": 37,
     "metadata": {},
     "output_type": "execute_result"
    }
   ],
   "source": [
    "glm.summary()"
   ]
  },
  {
   "cell_type": "code",
   "execution_count": 38,
   "metadata": {
    "scrolled": true
   },
   "outputs": [],
   "source": [
    "train_pred = glm.predict(X_train)"
   ]
  },
  {
   "cell_type": "code",
   "execution_count": 39,
   "metadata": {},
   "outputs": [
    {
     "data": {
      "text/plain": [
       "0.0026176820908033497"
      ]
     },
     "execution_count": 39,
     "metadata": {},
     "output_type": "execute_result"
    }
   ],
   "source": [
    "from sklearn.metrics import mean_absolute_error\n",
    "mean_absolute_error(y_train,train_pred)"
   ]
  },
  {
   "cell_type": "code",
   "execution_count": 40,
   "metadata": {},
   "outputs": [
    {
     "data": {
      "text/plain": [
       "0.6195946270707994"
      ]
     },
     "execution_count": 40,
     "metadata": {},
     "output_type": "execute_result"
    }
   ],
   "source": [
    "r2_score(y_train,train_pred)"
   ]
  },
  {
   "cell_type": "code",
   "execution_count": 77,
   "metadata": {},
   "outputs": [
    {
     "data": {
      "text/plain": [
       "0.006217777777777781"
      ]
     },
     "execution_count": 77,
     "metadata": {},
     "output_type": "execute_result"
    }
   ],
   "source": [
    "y_train.mean()"
   ]
  },
  {
   "cell_type": "code",
   "execution_count": 81,
   "metadata": {},
   "outputs": [
    {
     "name": "stdout",
     "output_type": "stream",
     "text": [
      "0.0002 0.019\n",
      "0.0002484469898937148 0.021212203447865185\n"
     ]
    }
   ],
   "source": [
    "print(min(y_train), max(y_train))\n",
    "print(min(train_pred),max(train_pred))"
   ]
  },
  {
   "cell_type": "code",
   "execution_count": 41,
   "metadata": {},
   "outputs": [
    {
     "data": {
      "text/plain": [
       "0.005006170833671414"
      ]
     },
     "execution_count": 41,
     "metadata": {},
     "output_type": "execute_result"
    }
   ],
   "source": [
    "test_pred_logit = glm.predict(X_test)\n",
    "mean_absolute_error(y_test,test_pred_logit)"
   ]
  },
  {
   "cell_type": "code",
   "execution_count": 42,
   "metadata": {},
   "outputs": [
    {
     "data": {
      "text/plain": [
       "0.17550435908543338"
      ]
     },
     "execution_count": 42,
     "metadata": {},
     "output_type": "execute_result"
    }
   ],
   "source": [
    "r2_score(y_test,test_pred_logit)"
   ]
  },
  {
   "cell_type": "code",
   "execution_count": 315,
   "metadata": {},
   "outputs": [],
   "source": [
    "result_dict['Model'].append('GeneralizedLinearModel - Binomial&Logitlink')\n",
    "result_dict['MeanAbsoluteError'].append(0.003427252359408609)\n",
    "result_dict['0-1TargetRangeSatisfied'].append('Yes')"
   ]
  },
  {
   "cell_type": "markdown",
   "metadata": {},
   "source": [
    "### Logistic Regression with Binomial Families and Logit link - Standardized Data"
   ]
  },
  {
   "cell_type": "code",
   "execution_count": 43,
   "metadata": {},
   "outputs": [
    {
     "name": "stderr",
     "output_type": "stream",
     "text": [
      "/Users/gurumanikanta/anaconda3/lib/python3.7/site-packages/ipykernel_launcher.py:1: DeprecationWarning: Calling Family(..) with a link class as argument is deprecated.\n",
      "Use an instance of a link class instead.\n",
      "  \"\"\"Entry point for launching an IPython kernel.\n"
     ]
    }
   ],
   "source": [
    "glm_std = sm.GLM(y_scaled_train, X_scaled_train, family=sm.families.Binomial(sm.families.links.logit)).fit()\n"
   ]
  },
  {
   "cell_type": "code",
   "execution_count": 44,
   "metadata": {},
   "outputs": [
    {
     "data": {
      "text/plain": [
       "0.0027111005137465663"
      ]
     },
     "execution_count": 44,
     "metadata": {},
     "output_type": "execute_result"
    }
   ],
   "source": [
    "train_pred_std_log = glm_std.predict(X_scaled_train)\n",
    "mean_absolute_error(y_scaled_train,train_pred_std_log)"
   ]
  },
  {
   "cell_type": "code",
   "execution_count": 45,
   "metadata": {},
   "outputs": [
    {
     "data": {
      "text/plain": [
       "0.0029190020219519576"
      ]
     },
     "execution_count": 45,
     "metadata": {},
     "output_type": "execute_result"
    }
   ],
   "source": [
    "test_pred_std_log = glm_std.predict(X_scaled_test)\n",
    "mean_absolute_error(y_scaled_test,test_pred_std_log)"
   ]
  },
  {
   "cell_type": "code",
   "execution_count": 47,
   "metadata": {},
   "outputs": [
    {
     "data": {
      "text/plain": [
       "0.6158694057602296"
      ]
     },
     "execution_count": 47,
     "metadata": {},
     "output_type": "execute_result"
    }
   ],
   "source": [
    "r2_score(y_scaled_test,test_pred_std_log)"
   ]
  },
  {
   "cell_type": "code",
   "execution_count": 322,
   "metadata": {},
   "outputs": [
    {
     "name": "stdout",
     "output_type": "stream",
     "text": [
      "0.001 0.005528879529053601\n",
      "0.013999999999999999 0.011809040812865193\n",
      "0.009000000000000001 0.005557675091545883\n",
      "0.0002 0.004779971201060598\n",
      "0.0002 0.0001701863924276954\n"
     ]
    }
   ],
   "source": [
    "for va1, va2 in zip(y_scaled_test, test_pred_std_log):\n",
    "    print(va1,va2)"
   ]
  },
  {
   "cell_type": "code",
   "execution_count": 323,
   "metadata": {},
   "outputs": [],
   "source": [
    "result_dict['Model'].append('GLM - Binomial&Logitlink StandardizedData')\n",
    "result_dict['MeanAbsoluteError'].append(0.002954389686655085)\n",
    "result_dict['0-1TargetRangeSatisfied'].append('Yes')"
   ]
  },
  {
   "cell_type": "markdown",
   "metadata": {},
   "source": [
    "### Linear Regression with Logit Transformation"
   ]
  },
  {
   "cell_type": "code",
   "execution_count": 48,
   "metadata": {},
   "outputs": [
    {
     "name": "stdout",
     "output_type": "stream",
     "text": [
      "0.012606508064217894\n"
     ]
    }
   ],
   "source": [
    "import numpy as np\n",
    "from sklearn.linear_model import LinearRegression\n",
    "\n",
    "\n",
    "class LogitRegression(LinearRegression):\n",
    "\n",
    "    def fit(self, x, p):\n",
    "        p = np.asarray(p)\n",
    "        y = np.log(p / (1 - p))\n",
    "        return super().fit(x, y)\n",
    "\n",
    "    def predict(self, x):\n",
    "        y = super().predict(x)\n",
    "        return 1 / (np.exp(-y) + 1)\n",
    "\n",
    "\n",
    "\n",
    "\n",
    "\n",
    "n = len(X_train)\n",
    "noise = 0.00001 * np.random.randn(n)\n",
    "p = np.tanh(y_train + noise)\n",
    "\n",
    "model = LogitRegression()\n",
    "model.fit(X_train, p)\n",
    "\n",
    "print(mean_absolute_error(y_test,model.predict(X_test)))"
   ]
  },
  {
   "cell_type": "code",
   "execution_count": 49,
   "metadata": {
    "scrolled": true
   },
   "outputs": [
    {
     "name": "stdout",
     "output_type": "stream",
     "text": [
      "0.00021154350450528707 0.0002\n",
      "0.00018522930475486503 0.0002\n",
      "0.00018455056531464935 0.0002\n",
      "0.012000178563338607 0.012\n",
      "0.00018530204024349748 0.0002\n",
      "0.0001911847350311947 0.0002\n",
      "0.00020470438525241284 0.0002\n",
      "0.00019952152459984295 0.0002\n",
      "0.018999684129005382 0.019\n",
      "0.00019286942017430754 0.0002\n",
      "0.006999531707520339 0.006999999999999999\n",
      "0.018018326202678715 0.018000000000000002\n",
      "0.003981026343737885 0.004\n",
      "0.021995292265791867 0.022000000000000002\n",
      "0.009003081382329163 0.009000000000000001\n",
      "0.005996298941533346 0.006\n",
      "0.005004859078799007 0.005\n",
      "0.007985477128068586 0.008\n",
      "0.00018730072580328886 0.0002\n",
      "0.00299893476173135 0.003\n",
      "0.008978187337537953 0.009000000000000001\n",
      "0.011002123187085131 0.011000000000000001\n",
      "0.005002557687548497 0.005\n",
      "0.00018349275640093226 0.0002\n",
      "0.012017181117635065 0.012\n",
      "0.007986977490088734 0.008\n",
      "0.018986298458558763 0.019\n",
      "0.002996532032644977 0.003\n",
      "0.0001973501750560764 0.0002\n",
      "0.00019489830551346928 0.0002\n",
      "0.007491909721132138 0.0075\n",
      "0.0089955159737005 0.009000000000000001\n",
      "0.0029907773120520795 0.003\n",
      "0.01300072912985688 0.013000000000000001\n",
      "0.0006981669707084613 0.0007000000000000001\n",
      "0.0039825548323600595 0.004\n",
      "0.014986528165552987 0.015\n",
      "0.0100169471684766 0.01\n",
      "0.00199570236172429 0.002\n",
      "0.014004967153059393 0.013999999999999999\n",
      "0.009008963973629555 0.009000000000000001\n",
      "0.007998613213972024 0.008\n",
      "0.003984992008153856 0.004\n",
      "0.00019667200765703546 0.0002\n",
      "0.0001980552650575087 0.0002\n"
     ]
    }
   ],
   "source": [
    "for v1, v2 in zip(p,y_train):\n",
    "    print(v1,v2)"
   ]
  },
  {
   "cell_type": "code",
   "execution_count": 50,
   "metadata": {},
   "outputs": [
    {
     "data": {
      "text/plain": [
       "0.003193732433132612"
      ]
     },
     "execution_count": 50,
     "metadata": {},
     "output_type": "execute_result"
    }
   ],
   "source": [
    "mean_absolute_error(y_train,model.predict(X_train))"
   ]
  },
  {
   "cell_type": "code",
   "execution_count": 51,
   "metadata": {},
   "outputs": [
    {
     "data": {
      "text/plain": [
       "0.0031816587899950012"
      ]
     },
     "execution_count": 51,
     "metadata": {},
     "output_type": "execute_result"
    }
   ],
   "source": [
    "#n = len(X_train)\n",
    "#noise = 0.00001 * np.random.randn(n)\n",
    "p = np.tanh(y_train)\n",
    "\n",
    "model = LogitRegression()\n",
    "model.fit(X_train, p)\n",
    "\n",
    "mean_absolute_error(y_train,model.predict(X_train))"
   ]
  },
  {
   "cell_type": "code",
   "execution_count": 52,
   "metadata": {},
   "outputs": [
    {
     "data": {
      "text/plain": [
       "-11.638760463149394"
      ]
     },
     "execution_count": 52,
     "metadata": {},
     "output_type": "execute_result"
    }
   ],
   "source": [
    "r2_score(y_test,model.predict(X_test))"
   ]
  },
  {
   "cell_type": "code",
   "execution_count": 199,
   "metadata": {
    "scrolled": true
   },
   "outputs": [
    {
     "name": "stdout",
     "output_type": "stream",
     "text": [
      "0.0002 0.0001999999973333334\n",
      "0.0002 0.0001999999973333334\n",
      "0.005 0.004999958333749996\n",
      "0.013000000000000001 0.012999267716169015\n",
      "0.009000000000000001 0.008999757007872942\n",
      "0.009000000000000001 0.008999757007872942\n",
      "0.019 0.018997713996764965\n",
      "0.01 0.00999966667999946\n",
      "0.019 0.018997713996764965\n",
      "0.004 0.003999978666803199\n",
      "0.011000000000000001 0.01099955635480575\n",
      "0.003 0.0029999910000324\n",
      "0.0002 0.0001999999973333334\n",
      "0.009000000000000001 0.008999757007872942\n",
      "0.0002 0.0001999999973333334\n",
      "0.0002 0.0001999999973333334\n",
      "0.0002 0.0001999999973333334\n",
      "0.004 0.003999978666803199\n",
      "0.0007000000000000001 0.0006999998856666892\n",
      "0.0002 0.0001999999973333334\n",
      "0.0002 0.0001999999973333334\n",
      "0.018000000000000002 0.017998056251909367\n",
      "0.009000000000000001 0.008999757007872942\n",
      "0.008 0.007999829337702286\n",
      "0.003 0.0029999910000324\n",
      "0.001 0.0009999996666668\n",
      "0.0002 0.0001999999973333334\n",
      "0.0002 0.0001999999973333334\n",
      "0.005 0.004999958333749996\n",
      "0.013999999999999999 0.01399908540503751\n",
      "0.0002 0.0001999999973333334\n",
      "0.0002 0.0001999999973333334\n",
      "0.003 0.0029999910000324\n",
      "0.0002 0.0001999999973333334\n",
      "0.006999999999999999 0.006999885668907555\n",
      "0.0075 0.00749985937816399\n",
      "0.009000000000000001 0.008999757007872942\n",
      "0.008 0.007999829337702286\n",
      "0.004 0.003999978666803199\n",
      "0.012 0.011999424033175667\n",
      "0.012 0.011999424033175667\n",
      "0.015 0.01499887510124078\n",
      "0.002 0.0019999973333376\n",
      "0.018000000000000002 0.017998056251909367\n",
      "0.006 0.005999928001036785\n"
     ]
    }
   ],
   "source": [
    "for v1, v2 in zip(y_train,p):\n",
    "    print(v1,v2)"
   ]
  },
  {
   "cell_type": "code",
   "execution_count": 325,
   "metadata": {},
   "outputs": [],
   "source": [
    "result_dict['Model'].append('LinearRegression-tanh&logit')\n",
    "result_dict['MeanAbsoluteError'].append(0.011502672724507248)\n",
    "result_dict['0-1TargetRangeSatisfied'].append('Yes')"
   ]
  },
  {
   "cell_type": "markdown",
   "metadata": {},
   "source": [
    "### Liner Regression with Logit Transformation - Standardized Data"
   ]
  },
  {
   "cell_type": "code",
   "execution_count": 224,
   "metadata": {},
   "outputs": [
    {
     "data": {
      "text/plain": [
       "LogitRegression(copy_X=True, fit_intercept=True, n_jobs=None, normalize=False)"
      ]
     },
     "execution_count": 224,
     "metadata": {},
     "output_type": "execute_result"
    }
   ],
   "source": [
    "n = len(X_train)\n",
    "noise = 0.00001 * np.random.randn(n)\n",
    "p = np.tanh(y_train + noise)\n",
    "\n",
    "lr_std = LogitRegression()\n",
    "lr_std.fit(X_scaled_train, p)"
   ]
  },
  {
   "cell_type": "code",
   "execution_count": 232,
   "metadata": {},
   "outputs": [
    {
     "data": {
      "text/plain": [
       "0.0037005368041537834"
      ]
     },
     "execution_count": 232,
     "metadata": {},
     "output_type": "execute_result"
    }
   ],
   "source": [
    "train_pred_std_lr = lr_std.predict(X_scaled_train)\n",
    "mean_absolute_error(y_train,train_pred_std_lr)"
   ]
  },
  {
   "cell_type": "code",
   "execution_count": 233,
   "metadata": {},
   "outputs": [
    {
     "data": {
      "text/plain": [
       "0.002904200084980783"
      ]
     },
     "execution_count": 233,
     "metadata": {},
     "output_type": "execute_result"
    }
   ],
   "source": [
    "test_pred_std_lr = lr_std.predict(X_scaled_test)\n",
    "mean_absolute_error(y_test,test_pred_std_lr)"
   ]
  },
  {
   "cell_type": "code",
   "execution_count": 234,
   "metadata": {},
   "outputs": [
    {
     "name": "stdout",
     "output_type": "stream",
     "text": [
      "0.019 0.010230266091882639\n",
      "0.015 0.010270293033004077\n",
      "0.0002 0.00046192286632792213\n",
      "0.0002 0.00036642184938967943\n",
      "0.0007000000000000001 0.00010678516592697031\n"
     ]
    }
   ],
   "source": [
    "for va1, va2 in zip(y_test, test_pred_std_lr):\n",
    "    print(va1,va2)"
   ]
  },
  {
   "cell_type": "code",
   "execution_count": 326,
   "metadata": {},
   "outputs": [],
   "source": [
    "result_dict['Model'].append('LinearRegression-tanh&logit StandardizedData')\n",
    "result_dict['MeanAbsoluteError'].append(0.002904200084980783)\n",
    "result_dict['0-1TargetRangeSatisfied'].append('Yes')"
   ]
  },
  {
   "cell_type": "markdown",
   "metadata": {},
   "source": [
    "### Random Forests"
   ]
  },
  {
   "cell_type": "code",
   "execution_count": 53,
   "metadata": {},
   "outputs": [],
   "source": [
    "from sklearn.ensemble import RandomForestRegressor\n",
    "\n",
    "rfr = RandomForestRegressor()"
   ]
  },
  {
   "cell_type": "code",
   "execution_count": 54,
   "metadata": {},
   "outputs": [
    {
     "data": {
      "text/plain": [
       "0.000936688354784383"
      ]
     },
     "execution_count": 54,
     "metadata": {},
     "output_type": "execute_result"
    }
   ],
   "source": [
    "rfr.fit(X_train,y_train)\n",
    "predictions = rfr.predict(X_train)\n",
    "mean_absolute_error(y_train,predictions)"
   ]
  },
  {
   "cell_type": "code",
   "execution_count": 55,
   "metadata": {},
   "outputs": [
    {
     "data": {
      "text/plain": [
       "array([0.00029089, 0.00028134, 0.00022534, 0.01043083, 0.00050032,\n",
       "       0.0004228 , 0.00029934, 0.00022534, 0.01685   , 0.00171392,\n",
       "       0.00731708, 0.01677   , 0.00561875, 0.0176155 , 0.00848583,\n",
       "       0.0059195 , 0.00457094, 0.00790975, 0.00036534, 0.00247963,\n",
       "       0.00721178, 0.01065042, 0.00552146, 0.00022534, 0.01054533,\n",
       "       0.0085425 , 0.01737   , 0.00664   , 0.00159711, 0.00022534,\n",
       "       0.00763284, 0.01095   , 0.00386605, 0.01295   , 0.00183101,\n",
       "       0.0045665 , 0.0140225 , 0.00796644, 0.00237593, 0.0137    ,\n",
       "       0.012495  , 0.01005242, 0.00532125, 0.00022534, 0.00027089])"
      ]
     },
     "execution_count": 55,
     "metadata": {},
     "output_type": "execute_result"
    }
   ],
   "source": [
    "predictions"
   ]
  },
  {
   "cell_type": "code",
   "execution_count": 56,
   "metadata": {},
   "outputs": [
    {
     "data": {
      "text/plain": [
       "0.004253504514920925"
      ]
     },
     "execution_count": 56,
     "metadata": {},
     "output_type": "execute_result"
    }
   ],
   "source": [
    "test_pred_rfr = rfr.predict(X_test)\n",
    "mean_absolute_error(y_test,test_pred_rfr)"
   ]
  },
  {
   "cell_type": "code",
   "execution_count": 57,
   "metadata": {},
   "outputs": [
    {
     "data": {
      "text/plain": [
       "0.465596410886593"
      ]
     },
     "execution_count": 57,
     "metadata": {},
     "output_type": "execute_result"
    }
   ],
   "source": [
    "r2_score(y_test,test_pred_rfr)"
   ]
  },
  {
   "cell_type": "code",
   "execution_count": 327,
   "metadata": {},
   "outputs": [],
   "source": [
    "result_dict['Model'].append('RandomForestRegressors')\n",
    "result_dict['MeanAbsoluteError'].append(0.003835015896023483)\n",
    "result_dict['0-1TargetRangeSatisfied'].append('Yes')"
   ]
  },
  {
   "cell_type": "markdown",
   "metadata": {},
   "source": [
    "### Random Forests -  Standardized Data"
   ]
  },
  {
   "cell_type": "code",
   "execution_count": 58,
   "metadata": {},
   "outputs": [],
   "source": [
    "from sklearn.ensemble import RandomForestRegressor\n",
    "\n",
    "rfr_std = RandomForestRegressor()"
   ]
  },
  {
   "cell_type": "code",
   "execution_count": 59,
   "metadata": {},
   "outputs": [
    {
     "data": {
      "text/plain": [
       "0.0019996600529100543"
      ]
     },
     "execution_count": 59,
     "metadata": {},
     "output_type": "execute_result"
    }
   ],
   "source": [
    "rfr_std.fit(X_scaled_train,y_train)\n",
    "predictions = rfr_std.predict(X_scaled_train)\n",
    "mean_absolute_error(y_train,predictions)"
   ]
  },
  {
   "cell_type": "code",
   "execution_count": 60,
   "metadata": {},
   "outputs": [
    {
     "data": {
      "text/plain": [
       "array([0.00164459, 0.00421367, 0.00242287, 0.00877133, 0.00419673,\n",
       "       0.001332  , 0.00094781, 0.00208874, 0.014142  , 0.00127214,\n",
       "       0.00551191, 0.013253  , 0.005546  , 0.01511863, 0.0088845 ,\n",
       "       0.00684856, 0.00559292, 0.00830717, 0.001538  , 0.005203  ,\n",
       "       0.009892  , 0.00864711, 0.00376525, 0.00438908, 0.01046467,\n",
       "       0.00494   , 0.01370925, 0.00272473, 0.00283223, 0.00130536,\n",
       "       0.0071472 , 0.00884174, 0.00359429, 0.01058381, 0.00463314,\n",
       "       0.00527463, 0.01254736, 0.00925217, 0.001664  , 0.011008  ,\n",
       "       0.00985728, 0.00637211, 0.00675722, 0.00135   , 0.00129406])"
      ]
     },
     "execution_count": 60,
     "metadata": {},
     "output_type": "execute_result"
    }
   ],
   "source": [
    "predictions"
   ]
  },
  {
   "cell_type": "code",
   "execution_count": 61,
   "metadata": {},
   "outputs": [
    {
     "data": {
      "text/plain": [
       "0.007173434632034631"
      ]
     },
     "execution_count": 61,
     "metadata": {},
     "output_type": "execute_result"
    }
   ],
   "source": [
    "test_pred_rfr_std = rfr_std.predict(X_scaled_test)\n",
    "mean_absolute_error(y_test,test_pred_rfr_std)"
   ]
  },
  {
   "cell_type": "code",
   "execution_count": 62,
   "metadata": {},
   "outputs": [
    {
     "data": {
      "text/plain": [
       "0.4058719654991023"
      ]
     },
     "execution_count": 62,
     "metadata": {},
     "output_type": "execute_result"
    }
   ],
   "source": [
    "r2_score(y_scaled_test,test_pred_rfr_std)"
   ]
  },
  {
   "cell_type": "code",
   "execution_count": 239,
   "metadata": {},
   "outputs": [
    {
     "name": "stdout",
     "output_type": "stream",
     "text": [
      "0.019 0.013032777777777777\n",
      "0.015 0.011037777777777782\n",
      "0.0002 0.00027733333333333283\n",
      "0.0002 0.00020133333333333323\n",
      "0.0007000000000000001 0.0032650500000000015\n"
     ]
    }
   ],
   "source": [
    "for v1, v2 in zip(y_test,test_pred_rfr_std):\n",
    "    print(v1,v2)"
   ]
  },
  {
   "cell_type": "code",
   "execution_count": 328,
   "metadata": {},
   "outputs": [],
   "source": [
    "result_dict['Model'].append('RandomForestRegressor-StandardizedData')\n",
    "result_dict['MeanAbsoluteError'].append(0.0025146322222222217)\n",
    "result_dict['0-1TargetRangeSatisfied'].append('Yes')"
   ]
  },
  {
   "cell_type": "code",
   "execution_count": 331,
   "metadata": {},
   "outputs": [
    {
     "data": {
      "text/plain": [
       "Index(['MinorityPop', 'FireReport', 'CrimeRate', 'HouseAge', 'Income',\n",
       "       'intercept', 'Flood_2', 'Flood_3'],\n",
       "      dtype='object')"
      ]
     },
     "execution_count": 331,
     "metadata": {},
     "output_type": "execute_result"
    }
   ],
   "source": [
    "X_train.columns"
   ]
  },
  {
   "cell_type": "code",
   "execution_count": 329,
   "metadata": {},
   "outputs": [
    {
     "data": {
      "text/plain": [
       "array([0.        , 0.00500832, 0.02142036, 0.24484393, 0.42137973,\n",
       "       0.06843183, 0.03390637, 0.20500946])"
      ]
     },
     "execution_count": 329,
     "metadata": {},
     "output_type": "execute_result"
    }
   ],
   "source": [
    "rfr_std.feature_importances_"
   ]
  },
  {
   "cell_type": "markdown",
   "metadata": {},
   "source": [
    "### Decision Trees"
   ]
  },
  {
   "cell_type": "code",
   "execution_count": 63,
   "metadata": {},
   "outputs": [],
   "source": [
    "from sklearn.tree import DecisionTreeRegressor\n",
    "\n",
    "dt = DecisionTreeRegressor()"
   ]
  },
  {
   "cell_type": "code",
   "execution_count": 64,
   "metadata": {},
   "outputs": [
    {
     "data": {
      "text/plain": [
       "3.1623931623931644e-05"
      ]
     },
     "execution_count": 64,
     "metadata": {},
     "output_type": "execute_result"
    }
   ],
   "source": [
    "dt.fit(X_train,y_train)\n",
    "predictions = dt.predict(X_train)\n",
    "mean_absolute_error(y_train,predictions)"
   ]
  },
  {
   "cell_type": "code",
   "execution_count": 122,
   "metadata": {},
   "outputs": [
    {
     "data": {
      "text/plain": [
       "array([0.0002, 0.0002, 0.005 , 0.013 , 0.009 , 0.009 , 0.019 , 0.01  ,\n",
       "       0.019 , 0.004 , 0.011 , 0.003 , 0.0002, 0.009 , 0.0002, 0.0002,\n",
       "       0.0002, 0.004 , 0.0007, 0.0002, 0.0002, 0.018 , 0.009 , 0.008 ,\n",
       "       0.003 , 0.001 , 0.0002, 0.0002, 0.005 , 0.014 , 0.0002, 0.0002,\n",
       "       0.003 , 0.0002, 0.007 , 0.0075, 0.009 , 0.008 , 0.004 , 0.012 ,\n",
       "       0.012 , 0.015 , 0.002 , 0.018 , 0.006 ])"
      ]
     },
     "execution_count": 122,
     "metadata": {},
     "output_type": "execute_result"
    }
   ],
   "source": [
    "predictions"
   ]
  },
  {
   "cell_type": "code",
   "execution_count": 65,
   "metadata": {},
   "outputs": [
    {
     "data": {
      "text/plain": [
       "0.0051576923076923084"
      ]
     },
     "execution_count": 65,
     "metadata": {},
     "output_type": "execute_result"
    }
   ],
   "source": [
    "test_pred_dt = dt.predict(X_test)\n",
    "mean_absolute_error(y_test,test_pred_dt)"
   ]
  },
  {
   "cell_type": "code",
   "execution_count": 66,
   "metadata": {},
   "outputs": [
    {
     "data": {
      "text/plain": [
       "0.18700367571369203"
      ]
     },
     "execution_count": 66,
     "metadata": {},
     "output_type": "execute_result"
    }
   ],
   "source": [
    "r2_score(y_test,test_pred_dt)"
   ]
  },
  {
   "cell_type": "code",
   "execution_count": 334,
   "metadata": {},
   "outputs": [
    {
     "data": {
      "text/plain": [
       "Index(['MinorityPop', 'FireReport', 'CrimeRate', 'HouseAge', 'Income',\n",
       "       'intercept', 'Flood_2', 'Flood_3'],\n",
       "      dtype='object')"
      ]
     },
     "execution_count": 334,
     "metadata": {},
     "output_type": "execute_result"
    }
   ],
   "source": [
    "X_train.columns"
   ]
  },
  {
   "cell_type": "code",
   "execution_count": 333,
   "metadata": {},
   "outputs": [
    {
     "data": {
      "text/plain": [
       "array([0.22872267, 0.52236922, 0.09857405, 0.01160782, 0.10664416,\n",
       "       0.        , 0.        , 0.03208207])"
      ]
     },
     "execution_count": 333,
     "metadata": {},
     "output_type": "execute_result"
    }
   ],
   "source": [
    "dt.feature_importances_"
   ]
  },
  {
   "cell_type": "code",
   "execution_count": 332,
   "metadata": {},
   "outputs": [],
   "source": [
    "result_dict['Model'].append('DecisionTree')\n",
    "result_dict['MeanAbsoluteError'].append(0.0036000000000000003)\n",
    "result_dict['0-1TargetRangeSatisfied'].append('Yes')"
   ]
  },
  {
   "cell_type": "markdown",
   "metadata": {},
   "source": [
    "### Decision Trees - Standardized Data"
   ]
  },
  {
   "cell_type": "code",
   "execution_count": 67,
   "metadata": {},
   "outputs": [],
   "source": [
    "from sklearn.tree import DecisionTreeRegressor\n",
    "\n",
    "dt_std = DecisionTreeRegressor()"
   ]
  },
  {
   "cell_type": "code",
   "execution_count": 68,
   "metadata": {},
   "outputs": [
    {
     "data": {
      "text/plain": [
       "1.4814814814814817e-05"
      ]
     },
     "execution_count": 68,
     "metadata": {},
     "output_type": "execute_result"
    }
   ],
   "source": [
    "dt_std.fit(X_scaled_train,y_train)\n",
    "predictions_dt_std = dt_std.predict(X_scaled_train)\n",
    "mean_absolute_error(y_train,predictions_dt_std)"
   ]
  },
  {
   "cell_type": "code",
   "execution_count": 69,
   "metadata": {},
   "outputs": [
    {
     "data": {
      "text/plain": [
       "array([0.0002    , 0.0002    , 0.0002    , 0.012     , 0.00036667,\n",
       "       0.0002    , 0.0002    , 0.0002    , 0.019     , 0.0002    ,\n",
       "       0.007     , 0.018     , 0.004     , 0.022     , 0.009     ,\n",
       "       0.006     , 0.005     , 0.008     , 0.0002    , 0.003     ,\n",
       "       0.009     , 0.011     , 0.005     , 0.0002    , 0.012     ,\n",
       "       0.008     , 0.019     , 0.003     , 0.00036667, 0.0002    ,\n",
       "       0.0075    , 0.009     , 0.003     , 0.013     , 0.00036667,\n",
       "       0.004     , 0.015     , 0.01      , 0.002     , 0.014     ,\n",
       "       0.009     , 0.008     , 0.004     , 0.0002    , 0.0002    ])"
      ]
     },
     "execution_count": 69,
     "metadata": {},
     "output_type": "execute_result"
    }
   ],
   "source": [
    "predictions_dt_std"
   ]
  },
  {
   "cell_type": "code",
   "execution_count": 72,
   "metadata": {},
   "outputs": [
    {
     "data": {
      "text/plain": [
       "0.0045200000000000014"
      ]
     },
     "execution_count": 72,
     "metadata": {},
     "output_type": "execute_result"
    }
   ],
   "source": [
    "test_pred_dt_std = dt.predict(X_scaled_test)\n",
    "mean_absolute_error(y_scaled_test,test_pred_dt_std)"
   ]
  },
  {
   "cell_type": "code",
   "execution_count": 73,
   "metadata": {},
   "outputs": [
    {
     "data": {
      "text/plain": [
       "-0.11048040152963656"
      ]
     },
     "execution_count": 73,
     "metadata": {},
     "output_type": "execute_result"
    }
   ],
   "source": [
    "r2_score(y_scaled_test,test_pred_dt_std)"
   ]
  },
  {
   "cell_type": "code",
   "execution_count": 249,
   "metadata": {},
   "outputs": [
    {
     "name": "stdout",
     "output_type": "stream",
     "text": [
      "0.019 0.013999999999999999\n",
      "0.015 0.00020000000000000006\n",
      "0.0002 0.00020000000000000006\n",
      "0.0002 0.004\n",
      "0.0007000000000000001 0.012\n"
     ]
    }
   ],
   "source": [
    "for v1, v2 in zip(y_test,predictions_dt_std):\n",
    "    print(v1, v2)"
   ]
  },
  {
   "cell_type": "code",
   "execution_count": 335,
   "metadata": {},
   "outputs": [],
   "source": [
    "result_dict['Model'].append('DecisionTree-StandardizedData')\n",
    "result_dict['MeanAbsoluteError'].append(0.006980000000000002)\n",
    "result_dict['0-1TargetRangeSatisfied'].append('Yes')"
   ]
  },
  {
   "cell_type": "code",
   "execution_count": 336,
   "metadata": {},
   "outputs": [
    {
     "data": {
      "text/html": [
       "<div>\n",
       "<style scoped>\n",
       "    .dataframe tbody tr th:only-of-type {\n",
       "        vertical-align: middle;\n",
       "    }\n",
       "\n",
       "    .dataframe tbody tr th {\n",
       "        vertical-align: top;\n",
       "    }\n",
       "\n",
       "    .dataframe thead th {\n",
       "        text-align: right;\n",
       "    }\n",
       "</style>\n",
       "<table border=\"1\" class=\"dataframe\">\n",
       "  <thead>\n",
       "    <tr style=\"text-align: right;\">\n",
       "      <th></th>\n",
       "      <th>Model</th>\n",
       "      <th>MeanAbsoluteError</th>\n",
       "      <th>0-1TargetRangeSatisfied</th>\n",
       "    </tr>\n",
       "  </thead>\n",
       "  <tbody>\n",
       "    <tr>\n",
       "      <th>0</th>\n",
       "      <td>OrdinaryLeastSquares</td>\n",
       "      <td>0.000994</td>\n",
       "      <td>No</td>\n",
       "    </tr>\n",
       "    <tr>\n",
       "      <th>1</th>\n",
       "      <td>GeneralizedLinearModel - GaussianDist</td>\n",
       "      <td>0.000994</td>\n",
       "      <td>No</td>\n",
       "    </tr>\n",
       "    <tr>\n",
       "      <th>2</th>\n",
       "      <td>GeneralizedLinearModel - Binomial&amp;Logitlink</td>\n",
       "      <td>0.003427</td>\n",
       "      <td>Yes</td>\n",
       "    </tr>\n",
       "    <tr>\n",
       "      <th>3</th>\n",
       "      <td>GLM - Binomial&amp;Logitlink StandardizedData</td>\n",
       "      <td>0.002954</td>\n",
       "      <td>Yes</td>\n",
       "    </tr>\n",
       "    <tr>\n",
       "      <th>4</th>\n",
       "      <td>LinearRegression-tanh&amp;logit</td>\n",
       "      <td>0.011503</td>\n",
       "      <td>Yes</td>\n",
       "    </tr>\n",
       "    <tr>\n",
       "      <th>5</th>\n",
       "      <td>LinearRegression-tanh&amp;logit StandardizedData</td>\n",
       "      <td>0.002904</td>\n",
       "      <td>Yes</td>\n",
       "    </tr>\n",
       "    <tr>\n",
       "      <th>6</th>\n",
       "      <td>RandomForestRegressors</td>\n",
       "      <td>0.003835</td>\n",
       "      <td>Yes</td>\n",
       "    </tr>\n",
       "    <tr>\n",
       "      <th>7</th>\n",
       "      <td>RandomForestRegressor-StandardizedData</td>\n",
       "      <td>0.002515</td>\n",
       "      <td>Yes</td>\n",
       "    </tr>\n",
       "    <tr>\n",
       "      <th>8</th>\n",
       "      <td>DecisionTree</td>\n",
       "      <td>0.003600</td>\n",
       "      <td>Yes</td>\n",
       "    </tr>\n",
       "    <tr>\n",
       "      <th>9</th>\n",
       "      <td>DecisionTree-StandardizedData</td>\n",
       "      <td>0.006980</td>\n",
       "      <td>Yes</td>\n",
       "    </tr>\n",
       "  </tbody>\n",
       "</table>\n",
       "</div>"
      ],
      "text/plain": [
       "                                          Model  MeanAbsoluteError  \\\n",
       "0                          OrdinaryLeastSquares           0.000994   \n",
       "1         GeneralizedLinearModel - GaussianDist           0.000994   \n",
       "2   GeneralizedLinearModel - Binomial&Logitlink           0.003427   \n",
       "3     GLM - Binomial&Logitlink StandardizedData           0.002954   \n",
       "4                   LinearRegression-tanh&logit           0.011503   \n",
       "5  LinearRegression-tanh&logit StandardizedData           0.002904   \n",
       "6                        RandomForestRegressors           0.003835   \n",
       "7        RandomForestRegressor-StandardizedData           0.002515   \n",
       "8                                  DecisionTree           0.003600   \n",
       "9                 DecisionTree-StandardizedData           0.006980   \n",
       "\n",
       "  0-1TargetRangeSatisfied  \n",
       "0                      No  \n",
       "1                      No  \n",
       "2                     Yes  \n",
       "3                     Yes  \n",
       "4                     Yes  \n",
       "5                     Yes  \n",
       "6                     Yes  \n",
       "7                     Yes  \n",
       "8                     Yes  \n",
       "9                     Yes  "
      ]
     },
     "execution_count": 336,
     "metadata": {},
     "output_type": "execute_result"
    }
   ],
   "source": [
    "results = pd.DataFrame(result_dict)\n",
    "results"
   ]
  },
  {
   "cell_type": "markdown",
   "metadata": {},
   "source": [
    "### Support Vector Regressors"
   ]
  },
  {
   "cell_type": "code",
   "execution_count": 253,
   "metadata": {},
   "outputs": [],
   "source": [
    "from sklearn.svm import SVR\n",
    "\n",
    "svr = SVR(kernel='sigmoid',degree=22)"
   ]
  },
  {
   "cell_type": "code",
   "execution_count": 254,
   "metadata": {},
   "outputs": [
    {
     "data": {
      "text/plain": [
       "0.006684444444444447"
      ]
     },
     "execution_count": 254,
     "metadata": {},
     "output_type": "execute_result"
    }
   ],
   "source": [
    "svr.fit(X_train,y_train)\n",
    "predictions = svr.predict(X_train)\n",
    "mean_absolute_error(y_train,predictions)"
   ]
  },
  {
   "cell_type": "code",
   "execution_count": 255,
   "metadata": {},
   "outputs": [
    {
     "data": {
      "text/plain": [
       "array([0.0111, 0.0111, 0.0111, 0.0111, 0.0111, 0.0111, 0.0111, 0.0111,\n",
       "       0.0111, 0.0111, 0.0111, 0.0111, 0.0111, 0.0111, 0.0111, 0.0111,\n",
       "       0.0111, 0.0111, 0.0111, 0.0111, 0.0111, 0.0111, 0.0111, 0.0111,\n",
       "       0.0111, 0.0111, 0.0111, 0.0111, 0.0111, 0.0111, 0.0111, 0.0111,\n",
       "       0.0111, 0.0111, 0.0111, 0.0111, 0.0111, 0.0111, 0.0111, 0.0111,\n",
       "       0.0111, 0.0111, 0.0111, 0.0111, 0.0111])"
      ]
     },
     "execution_count": 255,
     "metadata": {},
     "output_type": "execute_result"
    }
   ],
   "source": [
    "predictions"
   ]
  },
  {
   "cell_type": "markdown",
   "metadata": {},
   "source": [
    "### Beta Distribution transformation"
   ]
  },
  {
   "cell_type": "code",
   "execution_count": 41,
   "metadata": {},
   "outputs": [],
   "source": [
    "from scipy.special import loggamma\n",
    "from scipy.special import expit, logit\n",
    "from scipy.optimize import minimize\n",
    "import numpy as np\n",
    "\n",
    "def logLikelihood(params, y, X):\n",
    "    b = np.array(params[0:-1])      # the beta parameters of the regression model\n",
    "    phi = params[-1]                # the phi parameter\n",
    "    mu = expit(np.dot(X,b))\n",
    "   \n",
    "    eps = 1e-6                      # used for safety of the gamma and log functions avoiding inf\n",
    "    res = - np.sum(loggamma(phi+eps) # the log likelihood\n",
    "                   - loggamma(mu*phi+eps) \n",
    "                   - loggamma((1-mu)*phi+eps) \n",
    "                   + (mu*phi-1)*np.log(y+eps) \n",
    "                   + ((1-mu)*phi-1)*np.log(1-y+eps))\n",
    "\n",
    "    return res\n",
    "\n",
    "\n",
    "\n",
    "\n",
    "# initial parameters for optimization\n",
    "phi = 1\n",
    "b0 = 1\n",
    "x0 = np.array([b0,b0,b0,b0,b0,b0,b0,b0,phi])\n",
    "\n",
    "res = minimize(logLikelihood, x0=x0, args=(y_train,X_train), bounds=[(None,None), \n",
    "                                                         (None,None), \n",
    "                                                         (None,None), \n",
    "                                                         (None,None), \n",
    "                                                         (None,None), \n",
    "                                                        (None,None), \n",
    "                                                        (None,None), \n",
    "                                                        (None,None), \n",
    "                                                         (0,None)])\n",
    "\n",
    "b = np.array(res.x[0:X.shape[1]])   # optimal regression parameters\n",
    "y_ = expit(np.dot(X,b))             # predictions  \n"
   ]
  },
  {
   "cell_type": "code",
   "execution_count": 42,
   "metadata": {},
   "outputs": [
    {
     "data": {
      "text/plain": [
       "array([1., 1., 1., 1., 1., 1., 1., 1., 1., 1., 1., 1., 1., 1., 1., 1., 1.,\n",
       "       1., 1., 1., 1., 1., 1., 1., 1., 1., 1., 1., 1., 1., 1., 1., 1., 1.,\n",
       "       1., 1., 1., 1., 1., 1., 1., 1., 1., 1., 1., 1., 1., 1., 1., 1.])"
      ]
     },
     "execution_count": 42,
     "metadata": {},
     "output_type": "execute_result"
    }
   ],
   "source": [
    "y_"
   ]
  },
  {
   "cell_type": "code",
   "execution_count": 158,
   "metadata": {},
   "outputs": [
    {
     "name": "stdout",
     "output_type": "stream",
     "text": [
      "-0.8472978603872036 0.3\n",
      "-3.8918202981106265 0.02\n",
      "-3.8918202981106265 0.02\n",
      "-0.4054651081081643 0.4\n",
      "nan 1.1\n",
      "nan 1.9\n",
      "-3.8918202981106265 0.02\n",
      "-3.8918202981106265 0.02\n",
      "-3.8918202981106265 0.02\n",
      "-3.8918202981106265 0.02\n",
      "-3.8918202981106265 0.02\n",
      "-3.8918202981106265 0.02\n",
      "-3.8918202981106265 0.02\n",
      "-1.3862943611198906 0.2\n",
      "1.3862943611198908 0.8\n",
      "1.3862943611198908 0.8\n",
      "nan 1.8\n",
      "nan 1.8\n",
      "2.1972245773362196 0.9\n",
      "nan 1.9\n",
      "nan 1.5\n",
      "0.4054651081081642 0.6\n",
      "-3.8918202981106265 0.02\n",
      "-2.197224577336219 0.1\n",
      "nan 1.2\n",
      "0.0 0.5\n",
      "0.8472978603872034 0.7\n",
      "-0.8472978603872036 0.3\n",
      "nan 1.3\n",
      "2.1972245773362196 0.9\n",
      "-0.4054651081081643 0.4\n",
      "-3.8918202981106265 0.02\n",
      "-3.8918202981106265 0.02\n",
      "nan 1.4\n",
      "nan 2.2\n",
      "1.3862943611198908 0.8\n",
      "-3.8918202981106265 0.02\n",
      "2.1972245773362196 0.9\n",
      "2.1972245773362196 0.9\n",
      "-0.4054651081081643 0.4\n",
      "2.1972245773362196 0.9\n",
      "-3.8918202981106265 0.02\n",
      "0.0 0.5\n",
      "inf 1.0\n",
      "-1.3862943611198906 0.2\n",
      "-0.8472978603872036 0.3\n",
      "-3.8918202981106265 0.02\n",
      "-2.5866893440979424 0.07\n",
      "1.0986122886681098 0.75\n",
      "nan 1.2\n"
     ]
    }
   ],
   "source": [
    "for val1, val2 in zip(y_temp,houses['Declination']):\n",
    "    print(val1, val2)"
   ]
  },
  {
   "cell_type": "code",
   "execution_count": null,
   "metadata": {},
   "outputs": [],
   "source": []
  }
 ],
 "metadata": {
  "kernelspec": {
   "display_name": "Python 3",
   "language": "python",
   "name": "python3"
  },
  "language_info": {
   "codemirror_mode": {
    "name": "ipython",
    "version": 3
   },
   "file_extension": ".py",
   "mimetype": "text/x-python",
   "name": "python",
   "nbconvert_exporter": "python",
   "pygments_lexer": "ipython3",
   "version": "3.7.3"
  }
 },
 "nbformat": 4,
 "nbformat_minor": 2
}
